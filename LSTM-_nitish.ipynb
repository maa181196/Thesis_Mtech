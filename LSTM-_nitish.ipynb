{
 "cells": [
  {
   "cell_type": "code",
   "execution_count": null,
   "id": "ac78fd70",
   "metadata": {
    "id": "ac78fd70"
   },
   "outputs": [],
   "source": []
  },
  {
   "cell_type": "code",
   "execution_count": 168,
   "id": "9ee04bf6",
   "metadata": {},
   "outputs": [],
   "source": [
    "#lucknow prediction"
   ]
  },
  {
   "cell_type": "code",
   "execution_count": 152,
   "id": "c21ae5f3",
   "metadata": {
    "ExecuteTime": {
     "end_time": "2023-07-09T21:07:46.133881618Z",
     "start_time": "2023-07-09T21:07:46.088839951Z"
    },
    "id": "c21ae5f3"
   },
   "outputs": [],
   "source": [
    "import numpy as np\n",
    "import pandas as pd\n",
    "from matplotlib import pyplot as plt\n",
    "from sklearn.metrics import mean_squared_error\n",
    "\n",
    "from tensorflow.keras.models import Sequential\n",
    "from tensorflow.keras.layers import LSTM\n",
    "from tensorflow.keras.layers import Dense, Dropout\n",
    "\n",
    "from sklearn.preprocessing import StandardScaler\n",
    "#import seaborn as sns"
   ]
  },
  {
   "cell_type": "code",
   "execution_count": 153,
   "id": "f1d4e8ef",
   "metadata": {
    "ExecuteTime": {
     "end_time": "2023-07-09T21:07:46.663409199Z",
     "start_time": "2023-07-09T21:07:46.641294499Z"
    }
   },
   "outputs": [],
   "source": [
    "# Define a custom LeakyReLU activation function\n",
    "def leaky_relu(x):\n",
    "    return tf.nn.leaky_relu(x, alpha=0.01)\n"
   ]
  },
  {
   "cell_type": "code",
   "execution_count": 184,
   "id": "89fe5370",
   "metadata": {
    "ExecuteTime": {
     "end_time": "2023-07-09T21:31:51.060656917Z",
     "start_time": "2023-07-09T21:31:50.307279254Z"
    },
    "id": "89fe5370",
    "outputId": "ef1b6209-2010-4a0e-d48d-1c74a0a15f5e"
   },
   "outputs": [
    {
     "data": {
      "text/html": [
       "<div>\n",
       "<style scoped>\n",
       "    .dataframe tbody tr th:only-of-type {\n",
       "        vertical-align: middle;\n",
       "    }\n",
       "\n",
       "    .dataframe tbody tr th {\n",
       "        vertical-align: top;\n",
       "    }\n",
       "\n",
       "    .dataframe thead th {\n",
       "        text-align: right;\n",
       "    }\n",
       "</style>\n",
       "<table border=\"1\" class=\"dataframe\">\n",
       "  <thead>\n",
       "    <tr style=\"text-align: right;\">\n",
       "      <th></th>\n",
       "      <th>PeriodEnd</th>\n",
       "      <th>PeriodStart</th>\n",
       "      <th>Period</th>\n",
       "      <th>AirTemp</th>\n",
       "      <th>Azimuth</th>\n",
       "      <th>CloudOpacity</th>\n",
       "      <th>DewpointTemp</th>\n",
       "      <th>Dhi</th>\n",
       "      <th>Dni</th>\n",
       "      <th>Ebh</th>\n",
       "      <th>...</th>\n",
       "      <th>GtiFixedTilt</th>\n",
       "      <th>GtiTracking</th>\n",
       "      <th>PrecipitableWater</th>\n",
       "      <th>RelativeHumidity</th>\n",
       "      <th>SnowWater</th>\n",
       "      <th>SurfacePressure</th>\n",
       "      <th>WindDirection10m</th>\n",
       "      <th>WindSpeed10m</th>\n",
       "      <th>Zenith</th>\n",
       "      <th>AlbedoDaily</th>\n",
       "    </tr>\n",
       "  </thead>\n",
       "  <tbody>\n",
       "    <tr>\n",
       "      <th>0</th>\n",
       "      <td>2007-01-01T02:00:00Z</td>\n",
       "      <td>2007-01-01T01:00:00Z</td>\n",
       "      <td>PT60M</td>\n",
       "      <td>16.1</td>\n",
       "      <td>-113</td>\n",
       "      <td>0.0</td>\n",
       "      <td>12.3</td>\n",
       "      <td>2</td>\n",
       "      <td>3</td>\n",
       "      <td>0</td>\n",
       "      <td>...</td>\n",
       "      <td>3</td>\n",
       "      <td>2</td>\n",
       "      <td>21.0</td>\n",
       "      <td>78.1</td>\n",
       "      <td>0</td>\n",
       "      <td>1009.2</td>\n",
       "      <td>28</td>\n",
       "      <td>0.6</td>\n",
       "      <td>95</td>\n",
       "      <td>0.19</td>\n",
       "    </tr>\n",
       "    <tr>\n",
       "      <th>1</th>\n",
       "      <td>2007-01-01T03:00:00Z</td>\n",
       "      <td>2007-01-01T02:00:00Z</td>\n",
       "      <td>PT60M</td>\n",
       "      <td>16.3</td>\n",
       "      <td>-119</td>\n",
       "      <td>0.0</td>\n",
       "      <td>12.1</td>\n",
       "      <td>52</td>\n",
       "      <td>120</td>\n",
       "      <td>22</td>\n",
       "      <td>...</td>\n",
       "      <td>99</td>\n",
       "      <td>87</td>\n",
       "      <td>21.0</td>\n",
       "      <td>76.6</td>\n",
       "      <td>0</td>\n",
       "      <td>1009.9</td>\n",
       "      <td>36</td>\n",
       "      <td>0.5</td>\n",
       "      <td>83</td>\n",
       "      <td>0.19</td>\n",
       "    </tr>\n",
       "    <tr>\n",
       "      <th>2</th>\n",
       "      <td>2007-01-01T04:00:00Z</td>\n",
       "      <td>2007-01-01T03:00:00Z</td>\n",
       "      <td>PT60M</td>\n",
       "      <td>17.7</td>\n",
       "      <td>-127</td>\n",
       "      <td>0.0</td>\n",
       "      <td>12.4</td>\n",
       "      <td>128</td>\n",
       "      <td>361</td>\n",
       "      <td>121</td>\n",
       "      <td>...</td>\n",
       "      <td>335</td>\n",
       "      <td>427</td>\n",
       "      <td>20.9</td>\n",
       "      <td>70.9</td>\n",
       "      <td>0</td>\n",
       "      <td>1010.4</td>\n",
       "      <td>36</td>\n",
       "      <td>0.4</td>\n",
       "      <td>71</td>\n",
       "      <td>0.19</td>\n",
       "    </tr>\n",
       "    <tr>\n",
       "      <th>3</th>\n",
       "      <td>2007-01-01T05:00:00Z</td>\n",
       "      <td>2007-01-01T04:00:00Z</td>\n",
       "      <td>PT60M</td>\n",
       "      <td>20.4</td>\n",
       "      <td>-137</td>\n",
       "      <td>0.0</td>\n",
       "      <td>12.9</td>\n",
       "      <td>181</td>\n",
       "      <td>520</td>\n",
       "      <td>255</td>\n",
       "      <td>...</td>\n",
       "      <td>567</td>\n",
       "      <td>621</td>\n",
       "      <td>20.8</td>\n",
       "      <td>62.4</td>\n",
       "      <td>0</td>\n",
       "      <td>1010.6</td>\n",
       "      <td>21</td>\n",
       "      <td>0.3</td>\n",
       "      <td>61</td>\n",
       "      <td>0.19</td>\n",
       "    </tr>\n",
       "    <tr>\n",
       "      <th>4</th>\n",
       "      <td>2007-01-01T06:00:00Z</td>\n",
       "      <td>2007-01-01T05:00:00Z</td>\n",
       "      <td>PT60M</td>\n",
       "      <td>23.0</td>\n",
       "      <td>-150</td>\n",
       "      <td>0.0</td>\n",
       "      <td>13.5</td>\n",
       "      <td>219</td>\n",
       "      <td>592</td>\n",
       "      <td>359</td>\n",
       "      <td>...</td>\n",
       "      <td>734</td>\n",
       "      <td>668</td>\n",
       "      <td>20.6</td>\n",
       "      <td>55.0</td>\n",
       "      <td>0</td>\n",
       "      <td>1010.8</td>\n",
       "      <td>352</td>\n",
       "      <td>0.2</td>\n",
       "      <td>53</td>\n",
       "      <td>0.19</td>\n",
       "    </tr>\n",
       "    <tr>\n",
       "      <th>5</th>\n",
       "      <td>2007-01-01T07:00:00Z</td>\n",
       "      <td>2007-01-01T06:00:00Z</td>\n",
       "      <td>PT60M</td>\n",
       "      <td>24.8</td>\n",
       "      <td>-167</td>\n",
       "      <td>0.0</td>\n",
       "      <td>13.6</td>\n",
       "      <td>263</td>\n",
       "      <td>570</td>\n",
       "      <td>385</td>\n",
       "      <td>...</td>\n",
       "      <td>804</td>\n",
       "      <td>666</td>\n",
       "      <td>20.4</td>\n",
       "      <td>49.9</td>\n",
       "      <td>0</td>\n",
       "      <td>1010.4</td>\n",
       "      <td>322</td>\n",
       "      <td>0.4</td>\n",
       "      <td>48</td>\n",
       "      <td>0.19</td>\n",
       "    </tr>\n",
       "    <tr>\n",
       "      <th>6</th>\n",
       "      <td>2007-01-01T08:00:00Z</td>\n",
       "      <td>2007-01-01T07:00:00Z</td>\n",
       "      <td>PT60M</td>\n",
       "      <td>25.6</td>\n",
       "      <td>174</td>\n",
       "      <td>0.0</td>\n",
       "      <td>13.3</td>\n",
       "      <td>268</td>\n",
       "      <td>572</td>\n",
       "      <td>393</td>\n",
       "      <td>...</td>\n",
       "      <td>818</td>\n",
       "      <td>668</td>\n",
       "      <td>20.3</td>\n",
       "      <td>46.4</td>\n",
       "      <td>0</td>\n",
       "      <td>1009.3</td>\n",
       "      <td>314</td>\n",
       "      <td>0.7</td>\n",
       "      <td>47</td>\n",
       "      <td>0.19</td>\n",
       "    </tr>\n",
       "    <tr>\n",
       "      <th>7</th>\n",
       "      <td>2007-01-01T09:00:00Z</td>\n",
       "      <td>2007-01-01T08:00:00Z</td>\n",
       "      <td>PT60M</td>\n",
       "      <td>26.4</td>\n",
       "      <td>157</td>\n",
       "      <td>11.8</td>\n",
       "      <td>12.9</td>\n",
       "      <td>340</td>\n",
       "      <td>306</td>\n",
       "      <td>202</td>\n",
       "      <td>...</td>\n",
       "      <td>621</td>\n",
       "      <td>561</td>\n",
       "      <td>20.2</td>\n",
       "      <td>43.3</td>\n",
       "      <td>0</td>\n",
       "      <td>1008.2</td>\n",
       "      <td>311</td>\n",
       "      <td>1.1</td>\n",
       "      <td>50</td>\n",
       "      <td>0.19</td>\n",
       "    </tr>\n",
       "    <tr>\n",
       "      <th>8</th>\n",
       "      <td>2007-01-01T10:00:00Z</td>\n",
       "      <td>2007-01-01T09:00:00Z</td>\n",
       "      <td>PT60M</td>\n",
       "      <td>26.5</td>\n",
       "      <td>142</td>\n",
       "      <td>19.9</td>\n",
       "      <td>13.0</td>\n",
       "      <td>331</td>\n",
       "      <td>148</td>\n",
       "      <td>80</td>\n",
       "      <td>...</td>\n",
       "      <td>446</td>\n",
       "      <td>456</td>\n",
       "      <td>20.2</td>\n",
       "      <td>43.2</td>\n",
       "      <td>0</td>\n",
       "      <td>1007.6</td>\n",
       "      <td>309</td>\n",
       "      <td>1.3</td>\n",
       "      <td>57</td>\n",
       "      <td>0.19</td>\n",
       "    </tr>\n",
       "    <tr>\n",
       "      <th>9</th>\n",
       "      <td>2007-01-01T11:00:00Z</td>\n",
       "      <td>2007-01-01T10:00:00Z</td>\n",
       "      <td>PT60M</td>\n",
       "      <td>26.0</td>\n",
       "      <td>131</td>\n",
       "      <td>28.1</td>\n",
       "      <td>13.5</td>\n",
       "      <td>225</td>\n",
       "      <td>40</td>\n",
       "      <td>14</td>\n",
       "      <td>...</td>\n",
       "      <td>244</td>\n",
       "      <td>257</td>\n",
       "      <td>20.2</td>\n",
       "      <td>45.9</td>\n",
       "      <td>0</td>\n",
       "      <td>1007.5</td>\n",
       "      <td>308</td>\n",
       "      <td>1.4</td>\n",
       "      <td>67</td>\n",
       "      <td>0.19</td>\n",
       "    </tr>\n",
       "    <tr>\n",
       "      <th>10</th>\n",
       "      <td>2007-01-01T12:00:00Z</td>\n",
       "      <td>2007-01-01T11:00:00Z</td>\n",
       "      <td>PT60M</td>\n",
       "      <td>25.5</td>\n",
       "      <td>122</td>\n",
       "      <td>1.5</td>\n",
       "      <td>14.0</td>\n",
       "      <td>88</td>\n",
       "      <td>236</td>\n",
       "      <td>53</td>\n",
       "      <td>...</td>\n",
       "      <td>192</td>\n",
       "      <td>197</td>\n",
       "      <td>20.3</td>\n",
       "      <td>49.0</td>\n",
       "      <td>0</td>\n",
       "      <td>1007.4</td>\n",
       "      <td>307</td>\n",
       "      <td>1.4</td>\n",
       "      <td>78</td>\n",
       "      <td>0.19</td>\n",
       "    </tr>\n",
       "    <tr>\n",
       "      <th>11</th>\n",
       "      <td>2007-01-01T13:00:00Z</td>\n",
       "      <td>2007-01-01T12:00:00Z</td>\n",
       "      <td>PT60M</td>\n",
       "      <td>24.2</td>\n",
       "      <td>115</td>\n",
       "      <td>0.0</td>\n",
       "      <td>14.1</td>\n",
       "      <td>13</td>\n",
       "      <td>25</td>\n",
       "      <td>3</td>\n",
       "      <td>...</td>\n",
       "      <td>21</td>\n",
       "      <td>15</td>\n",
       "      <td>20.1</td>\n",
       "      <td>53.0</td>\n",
       "      <td>0</td>\n",
       "      <td>1007.7</td>\n",
       "      <td>318</td>\n",
       "      <td>1.7</td>\n",
       "      <td>90</td>\n",
       "      <td>0.19</td>\n",
       "    </tr>\n",
       "    <tr>\n",
       "      <th>12</th>\n",
       "      <td>2007-01-01T14:00:00Z</td>\n",
       "      <td>2007-01-01T13:00:00Z</td>\n",
       "      <td>PT60M</td>\n",
       "      <td>22.2</td>\n",
       "      <td>110</td>\n",
       "      <td>0.0</td>\n",
       "      <td>13.7</td>\n",
       "      <td>0</td>\n",
       "      <td>0</td>\n",
       "      <td>0</td>\n",
       "      <td>...</td>\n",
       "      <td>0</td>\n",
       "      <td>0</td>\n",
       "      <td>19.6</td>\n",
       "      <td>58.5</td>\n",
       "      <td>0</td>\n",
       "      <td>1008.3</td>\n",
       "      <td>333</td>\n",
       "      <td>2.2</td>\n",
       "      <td>103</td>\n",
       "      <td>0.19</td>\n",
       "    </tr>\n",
       "    <tr>\n",
       "      <th>13</th>\n",
       "      <td>2007-01-01T15:00:00Z</td>\n",
       "      <td>2007-01-01T14:00:00Z</td>\n",
       "      <td>PT60M</td>\n",
       "      <td>20.2</td>\n",
       "      <td>106</td>\n",
       "      <td>0.0</td>\n",
       "      <td>13.3</td>\n",
       "      <td>0</td>\n",
       "      <td>0</td>\n",
       "      <td>0</td>\n",
       "      <td>...</td>\n",
       "      <td>0</td>\n",
       "      <td>0</td>\n",
       "      <td>19.2</td>\n",
       "      <td>64.6</td>\n",
       "      <td>0</td>\n",
       "      <td>1008.9</td>\n",
       "      <td>342</td>\n",
       "      <td>2.8</td>\n",
       "      <td>116</td>\n",
       "      <td>0.19</td>\n",
       "    </tr>\n",
       "    <tr>\n",
       "      <th>14</th>\n",
       "      <td>2007-01-01T16:00:00Z</td>\n",
       "      <td>2007-01-01T15:00:00Z</td>\n",
       "      <td>PT60M</td>\n",
       "      <td>18.8</td>\n",
       "      <td>102</td>\n",
       "      <td>0.0</td>\n",
       "      <td>13.0</td>\n",
       "      <td>0</td>\n",
       "      <td>0</td>\n",
       "      <td>0</td>\n",
       "      <td>...</td>\n",
       "      <td>0</td>\n",
       "      <td>0</td>\n",
       "      <td>18.8</td>\n",
       "      <td>69.3</td>\n",
       "      <td>0</td>\n",
       "      <td>1009.3</td>\n",
       "      <td>351</td>\n",
       "      <td>2.8</td>\n",
       "      <td>129</td>\n",
       "      <td>0.19</td>\n",
       "    </tr>\n",
       "    <tr>\n",
       "      <th>15</th>\n",
       "      <td>2007-01-01T17:00:00Z</td>\n",
       "      <td>2007-01-01T16:00:00Z</td>\n",
       "      <td>PT60M</td>\n",
       "      <td>18.0</td>\n",
       "      <td>98</td>\n",
       "      <td>0.0</td>\n",
       "      <td>12.9</td>\n",
       "      <td>0</td>\n",
       "      <td>0</td>\n",
       "      <td>0</td>\n",
       "      <td>...</td>\n",
       "      <td>0</td>\n",
       "      <td>0</td>\n",
       "      <td>18.4</td>\n",
       "      <td>72.4</td>\n",
       "      <td>0</td>\n",
       "      <td>1009.3</td>\n",
       "      <td>5</td>\n",
       "      <td>2.5</td>\n",
       "      <td>143</td>\n",
       "      <td>0.19</td>\n",
       "    </tr>\n",
       "    <tr>\n",
       "      <th>16</th>\n",
       "      <td>2007-01-01T18:00:00Z</td>\n",
       "      <td>2007-01-01T17:00:00Z</td>\n",
       "      <td>PT60M</td>\n",
       "      <td>17.2</td>\n",
       "      <td>95</td>\n",
       "      <td>0.0</td>\n",
       "      <td>12.8</td>\n",
       "      <td>0</td>\n",
       "      <td>0</td>\n",
       "      <td>0</td>\n",
       "      <td>...</td>\n",
       "      <td>0</td>\n",
       "      <td>0</td>\n",
       "      <td>18.0</td>\n",
       "      <td>75.5</td>\n",
       "      <td>0</td>\n",
       "      <td>1009.4</td>\n",
       "      <td>22</td>\n",
       "      <td>2.3</td>\n",
       "      <td>157</td>\n",
       "      <td>0.19</td>\n",
       "    </tr>\n",
       "    <tr>\n",
       "      <th>17</th>\n",
       "      <td>2007-01-01T19:00:00Z</td>\n",
       "      <td>2007-01-01T18:00:00Z</td>\n",
       "      <td>PT60M</td>\n",
       "      <td>16.6</td>\n",
       "      <td>93</td>\n",
       "      <td>0.0</td>\n",
       "      <td>12.8</td>\n",
       "      <td>0</td>\n",
       "      <td>0</td>\n",
       "      <td>0</td>\n",
       "      <td>...</td>\n",
       "      <td>0</td>\n",
       "      <td>0</td>\n",
       "      <td>17.7</td>\n",
       "      <td>78.2</td>\n",
       "      <td>0</td>\n",
       "      <td>1009.2</td>\n",
       "      <td>33</td>\n",
       "      <td>2.2</td>\n",
       "      <td>170</td>\n",
       "      <td>0.19</td>\n",
       "    </tr>\n",
       "    <tr>\n",
       "      <th>18</th>\n",
       "      <td>2007-01-01T20:00:00Z</td>\n",
       "      <td>2007-01-01T19:00:00Z</td>\n",
       "      <td>PT60M</td>\n",
       "      <td>16.0</td>\n",
       "      <td>-93</td>\n",
       "      <td>0.0</td>\n",
       "      <td>12.7</td>\n",
       "      <td>0</td>\n",
       "      <td>0</td>\n",
       "      <td>0</td>\n",
       "      <td>...</td>\n",
       "      <td>0</td>\n",
       "      <td>0</td>\n",
       "      <td>17.4</td>\n",
       "      <td>80.6</td>\n",
       "      <td>0</td>\n",
       "      <td>1009.0</td>\n",
       "      <td>37</td>\n",
       "      <td>1.9</td>\n",
       "      <td>175</td>\n",
       "      <td>0.19</td>\n",
       "    </tr>\n",
       "    <tr>\n",
       "      <th>19</th>\n",
       "      <td>2007-01-01T21:00:00Z</td>\n",
       "      <td>2007-01-01T20:00:00Z</td>\n",
       "      <td>PT60M</td>\n",
       "      <td>15.5</td>\n",
       "      <td>-94</td>\n",
       "      <td>0.0</td>\n",
       "      <td>12.6</td>\n",
       "      <td>0</td>\n",
       "      <td>0</td>\n",
       "      <td>0</td>\n",
       "      <td>...</td>\n",
       "      <td>0</td>\n",
       "      <td>0</td>\n",
       "      <td>17.1</td>\n",
       "      <td>83.0</td>\n",
       "      <td>0</td>\n",
       "      <td>1008.7</td>\n",
       "      <td>42</td>\n",
       "      <td>1.7</td>\n",
       "      <td>162</td>\n",
       "      <td>0.19</td>\n",
       "    </tr>\n",
       "    <tr>\n",
       "      <th>20</th>\n",
       "      <td>2007-01-01T22:00:00Z</td>\n",
       "      <td>2007-01-01T21:00:00Z</td>\n",
       "      <td>PT60M</td>\n",
       "      <td>15.1</td>\n",
       "      <td>-97</td>\n",
       "      <td>0.0</td>\n",
       "      <td>12.7</td>\n",
       "      <td>0</td>\n",
       "      <td>0</td>\n",
       "      <td>0</td>\n",
       "      <td>...</td>\n",
       "      <td>0</td>\n",
       "      <td>0</td>\n",
       "      <td>16.8</td>\n",
       "      <td>85.3</td>\n",
       "      <td>0</td>\n",
       "      <td>1008.6</td>\n",
       "      <td>44</td>\n",
       "      <td>1.6</td>\n",
       "      <td>148</td>\n",
       "      <td>0.19</td>\n",
       "    </tr>\n",
       "    <tr>\n",
       "      <th>21</th>\n",
       "      <td>2007-01-01T23:00:00Z</td>\n",
       "      <td>2007-01-01T22:00:00Z</td>\n",
       "      <td>PT60M</td>\n",
       "      <td>14.8</td>\n",
       "      <td>-100</td>\n",
       "      <td>0.0</td>\n",
       "      <td>12.8</td>\n",
       "      <td>0</td>\n",
       "      <td>0</td>\n",
       "      <td>0</td>\n",
       "      <td>...</td>\n",
       "      <td>0</td>\n",
       "      <td>0</td>\n",
       "      <td>16.4</td>\n",
       "      <td>87.5</td>\n",
       "      <td>0</td>\n",
       "      <td>1008.8</td>\n",
       "      <td>43</td>\n",
       "      <td>1.6</td>\n",
       "      <td>135</td>\n",
       "      <td>0.19</td>\n",
       "    </tr>\n",
       "    <tr>\n",
       "      <th>22</th>\n",
       "      <td>2007-01-02T00:00:00Z</td>\n",
       "      <td>2007-01-01T23:00:00Z</td>\n",
       "      <td>PT60M</td>\n",
       "      <td>14.5</td>\n",
       "      <td>-104</td>\n",
       "      <td>0.0</td>\n",
       "      <td>12.9</td>\n",
       "      <td>0</td>\n",
       "      <td>0</td>\n",
       "      <td>0</td>\n",
       "      <td>...</td>\n",
       "      <td>0</td>\n",
       "      <td>0</td>\n",
       "      <td>16.1</td>\n",
       "      <td>89.6</td>\n",
       "      <td>0</td>\n",
       "      <td>1008.9</td>\n",
       "      <td>41</td>\n",
       "      <td>1.6</td>\n",
       "      <td>121</td>\n",
       "      <td>0.19</td>\n",
       "    </tr>\n",
       "    <tr>\n",
       "      <th>23</th>\n",
       "      <td>2007-01-02T01:00:00Z</td>\n",
       "      <td>2007-01-02T00:00:00Z</td>\n",
       "      <td>PT60M</td>\n",
       "      <td>14.6</td>\n",
       "      <td>-108</td>\n",
       "      <td>0.0</td>\n",
       "      <td>12.8</td>\n",
       "      <td>0</td>\n",
       "      <td>0</td>\n",
       "      <td>0</td>\n",
       "      <td>...</td>\n",
       "      <td>0</td>\n",
       "      <td>0</td>\n",
       "      <td>15.8</td>\n",
       "      <td>89.1</td>\n",
       "      <td>0</td>\n",
       "      <td>1009.3</td>\n",
       "      <td>43</td>\n",
       "      <td>1.6</td>\n",
       "      <td>108</td>\n",
       "      <td>0.19</td>\n",
       "    </tr>\n",
       "    <tr>\n",
       "      <th>24</th>\n",
       "      <td>2007-01-02T02:00:00Z</td>\n",
       "      <td>2007-01-02T01:00:00Z</td>\n",
       "      <td>PT60M</td>\n",
       "      <td>15.0</td>\n",
       "      <td>-113</td>\n",
       "      <td>0.0</td>\n",
       "      <td>12.7</td>\n",
       "      <td>2</td>\n",
       "      <td>4</td>\n",
       "      <td>0</td>\n",
       "      <td>...</td>\n",
       "      <td>3</td>\n",
       "      <td>2</td>\n",
       "      <td>15.6</td>\n",
       "      <td>86.0</td>\n",
       "      <td>0</td>\n",
       "      <td>1010.1</td>\n",
       "      <td>49</td>\n",
       "      <td>1.5</td>\n",
       "      <td>95</td>\n",
       "      <td>0.19</td>\n",
       "    </tr>\n",
       "    <tr>\n",
       "      <th>25</th>\n",
       "      <td>2007-01-02T03:00:00Z</td>\n",
       "      <td>2007-01-02T02:00:00Z</td>\n",
       "      <td>PT60M</td>\n",
       "      <td>15.5</td>\n",
       "      <td>-119</td>\n",
       "      <td>0.0</td>\n",
       "      <td>12.6</td>\n",
       "      <td>50</td>\n",
       "      <td>170</td>\n",
       "      <td>30</td>\n",
       "      <td>...</td>\n",
       "      <td>117</td>\n",
       "      <td>97</td>\n",
       "      <td>15.5</td>\n",
       "      <td>82.6</td>\n",
       "      <td>0</td>\n",
       "      <td>1010.8</td>\n",
       "      <td>56</td>\n",
       "      <td>1.4</td>\n",
       "      <td>83</td>\n",
       "      <td>0.19</td>\n",
       "    </tr>\n",
       "    <tr>\n",
       "      <th>26</th>\n",
       "      <td>2007-01-02T04:00:00Z</td>\n",
       "      <td>2007-01-02T03:00:00Z</td>\n",
       "      <td>PT60M</td>\n",
       "      <td>17.3</td>\n",
       "      <td>-127</td>\n",
       "      <td>0.0</td>\n",
       "      <td>12.4</td>\n",
       "      <td>115</td>\n",
       "      <td>459</td>\n",
       "      <td>153</td>\n",
       "      <td>...</td>\n",
       "      <td>375</td>\n",
       "      <td>489</td>\n",
       "      <td>15.3</td>\n",
       "      <td>73.1</td>\n",
       "      <td>0</td>\n",
       "      <td>1011.3</td>\n",
       "      <td>61</td>\n",
       "      <td>1.2</td>\n",
       "      <td>71</td>\n",
       "      <td>0.19</td>\n",
       "    </tr>\n",
       "    <tr>\n",
       "      <th>27</th>\n",
       "      <td>2007-01-02T05:00:00Z</td>\n",
       "      <td>2007-01-02T04:00:00Z</td>\n",
       "      <td>PT60M</td>\n",
       "      <td>20.3</td>\n",
       "      <td>-137</td>\n",
       "      <td>0.0</td>\n",
       "      <td>12.2</td>\n",
       "      <td>157</td>\n",
       "      <td>621</td>\n",
       "      <td>304</td>\n",
       "      <td>...</td>\n",
       "      <td>613</td>\n",
       "      <td>677</td>\n",
       "      <td>15.2</td>\n",
       "      <td>59.8</td>\n",
       "      <td>0</td>\n",
       "      <td>1011.6</td>\n",
       "      <td>65</td>\n",
       "      <td>0.9</td>\n",
       "      <td>61</td>\n",
       "      <td>0.19</td>\n",
       "    </tr>\n",
       "    <tr>\n",
       "      <th>28</th>\n",
       "      <td>2007-01-02T06:00:00Z</td>\n",
       "      <td>2007-01-02T05:00:00Z</td>\n",
       "      <td>PT60M</td>\n",
       "      <td>23.3</td>\n",
       "      <td>-150</td>\n",
       "      <td>0.0</td>\n",
       "      <td>12.0</td>\n",
       "      <td>178</td>\n",
       "      <td>712</td>\n",
       "      <td>434</td>\n",
       "      <td>...</td>\n",
       "      <td>792</td>\n",
       "      <td>715</td>\n",
       "      <td>15.1</td>\n",
       "      <td>49.1</td>\n",
       "      <td>0</td>\n",
       "      <td>1011.8</td>\n",
       "      <td>72</td>\n",
       "      <td>0.5</td>\n",
       "      <td>53</td>\n",
       "      <td>0.19</td>\n",
       "    </tr>\n",
       "    <tr>\n",
       "      <th>29</th>\n",
       "      <td>2007-01-02T07:00:00Z</td>\n",
       "      <td>2007-01-02T06:00:00Z</td>\n",
       "      <td>PT60M</td>\n",
       "      <td>25.1</td>\n",
       "      <td>-167</td>\n",
       "      <td>0.0</td>\n",
       "      <td>11.4</td>\n",
       "      <td>161</td>\n",
       "      <td>810</td>\n",
       "      <td>548</td>\n",
       "      <td>...</td>\n",
       "      <td>914</td>\n",
       "      <td>733</td>\n",
       "      <td>15.0</td>\n",
       "      <td>42.4</td>\n",
       "      <td>0</td>\n",
       "      <td>1011.4</td>\n",
       "      <td>28</td>\n",
       "      <td>0.2</td>\n",
       "      <td>47</td>\n",
       "      <td>0.19</td>\n",
       "    </tr>\n",
       "    <tr>\n",
       "      <th>30</th>\n",
       "      <td>2007-01-02T08:00:00Z</td>\n",
       "      <td>2007-01-02T07:00:00Z</td>\n",
       "      <td>PT60M</td>\n",
       "      <td>25.7</td>\n",
       "      <td>175</td>\n",
       "      <td>0.0</td>\n",
       "      <td>10.5</td>\n",
       "      <td>150</td>\n",
       "      <td>842</td>\n",
       "      <td>579</td>\n",
       "      <td>...</td>\n",
       "      <td>942</td>\n",
       "      <td>738</td>\n",
       "      <td>14.9</td>\n",
       "      <td>38.4</td>\n",
       "      <td>0</td>\n",
       "      <td>1010.4</td>\n",
       "      <td>312</td>\n",
       "      <td>0.6</td>\n",
       "      <td>47</td>\n",
       "      <td>0.19</td>\n",
       "    </tr>\n",
       "    <tr>\n",
       "      <th>31</th>\n",
       "      <td>2007-01-02T09:00:00Z</td>\n",
       "      <td>2007-01-02T08:00:00Z</td>\n",
       "      <td>PT60M</td>\n",
       "      <td>26.3</td>\n",
       "      <td>157</td>\n",
       "      <td>0.0</td>\n",
       "      <td>9.6</td>\n",
       "      <td>148</td>\n",
       "      <td>814</td>\n",
       "      <td>524</td>\n",
       "      <td>...</td>\n",
       "      <td>875</td>\n",
       "      <td>740</td>\n",
       "      <td>14.8</td>\n",
       "      <td>34.8</td>\n",
       "      <td>0</td>\n",
       "      <td>1009.4</td>\n",
       "      <td>302</td>\n",
       "      <td>1.2</td>\n",
       "      <td>50</td>\n",
       "      <td>0.19</td>\n",
       "    </tr>\n",
       "    <tr>\n",
       "      <th>32</th>\n",
       "      <td>2007-01-02T10:00:00Z</td>\n",
       "      <td>2007-01-02T09:00:00Z</td>\n",
       "      <td>PT60M</td>\n",
       "      <td>26.4</td>\n",
       "      <td>142</td>\n",
       "      <td>0.0</td>\n",
       "      <td>9.3</td>\n",
       "      <td>158</td>\n",
       "      <td>697</td>\n",
       "      <td>381</td>\n",
       "      <td>...</td>\n",
       "      <td>711</td>\n",
       "      <td>714</td>\n",
       "      <td>14.7</td>\n",
       "      <td>34.2</td>\n",
       "      <td>0</td>\n",
       "      <td>1008.8</td>\n",
       "      <td>302</td>\n",
       "      <td>1.5</td>\n",
       "      <td>57</td>\n",
       "      <td>0.19</td>\n",
       "    </tr>\n",
       "    <tr>\n",
       "      <th>33</th>\n",
       "      <td>2007-01-02T11:00:00Z</td>\n",
       "      <td>2007-01-02T10:00:00Z</td>\n",
       "      <td>PT60M</td>\n",
       "      <td>25.8</td>\n",
       "      <td>131</td>\n",
       "      <td>0.0</td>\n",
       "      <td>9.8</td>\n",
       "      <td>132</td>\n",
       "      <td>564</td>\n",
       "      <td>227</td>\n",
       "      <td>...</td>\n",
       "      <td>493</td>\n",
       "      <td>630</td>\n",
       "      <td>14.6</td>\n",
       "      <td>36.3</td>\n",
       "      <td>0</td>\n",
       "      <td>1008.7</td>\n",
       "      <td>305</td>\n",
       "      <td>1.5</td>\n",
       "      <td>67</td>\n",
       "      <td>0.19</td>\n",
       "    </tr>\n",
       "    <tr>\n",
       "      <th>34</th>\n",
       "      <td>2007-01-02T12:00:00Z</td>\n",
       "      <td>2007-01-02T11:00:00Z</td>\n",
       "      <td>PT60M</td>\n",
       "      <td>25.3</td>\n",
       "      <td>122</td>\n",
       "      <td>0.0</td>\n",
       "      <td>10.2</td>\n",
       "      <td>78</td>\n",
       "      <td>335</td>\n",
       "      <td>79</td>\n",
       "      <td>...</td>\n",
       "      <td>232</td>\n",
       "      <td>248</td>\n",
       "      <td>14.5</td>\n",
       "      <td>38.7</td>\n",
       "      <td>0</td>\n",
       "      <td>1008.7</td>\n",
       "      <td>309</td>\n",
       "      <td>1.5</td>\n",
       "      <td>78</td>\n",
       "      <td>0.19</td>\n",
       "    </tr>\n",
       "    <tr>\n",
       "      <th>35</th>\n",
       "      <td>2007-01-02T13:00:00Z</td>\n",
       "      <td>2007-01-02T12:00:00Z</td>\n",
       "      <td>PT60M</td>\n",
       "      <td>23.8</td>\n",
       "      <td>115</td>\n",
       "      <td>0.0</td>\n",
       "      <td>10.1</td>\n",
       "      <td>14</td>\n",
       "      <td>38</td>\n",
       "      <td>5</td>\n",
       "      <td>...</td>\n",
       "      <td>26</td>\n",
       "      <td>16</td>\n",
       "      <td>14.4</td>\n",
       "      <td>42.0</td>\n",
       "      <td>0</td>\n",
       "      <td>1008.9</td>\n",
       "      <td>318</td>\n",
       "      <td>1.7</td>\n",
       "      <td>90</td>\n",
       "      <td>0.19</td>\n",
       "    </tr>\n",
       "    <tr>\n",
       "      <th>36</th>\n",
       "      <td>2007-01-02T14:00:00Z</td>\n",
       "      <td>2007-01-02T13:00:00Z</td>\n",
       "      <td>PT60M</td>\n",
       "      <td>21.5</td>\n",
       "      <td>110</td>\n",
       "      <td>0.0</td>\n",
       "      <td>9.6</td>\n",
       "      <td>0</td>\n",
       "      <td>0</td>\n",
       "      <td>0</td>\n",
       "      <td>...</td>\n",
       "      <td>0</td>\n",
       "      <td>0</td>\n",
       "      <td>14.2</td>\n",
       "      <td>46.8</td>\n",
       "      <td>0</td>\n",
       "      <td>1009.4</td>\n",
       "      <td>328</td>\n",
       "      <td>2.2</td>\n",
       "      <td>103</td>\n",
       "      <td>0.19</td>\n",
       "    </tr>\n",
       "    <tr>\n",
       "      <th>37</th>\n",
       "      <td>2007-01-02T15:00:00Z</td>\n",
       "      <td>2007-01-02T14:00:00Z</td>\n",
       "      <td>PT60M</td>\n",
       "      <td>19.1</td>\n",
       "      <td>106</td>\n",
       "      <td>0.0</td>\n",
       "      <td>9.1</td>\n",
       "      <td>0</td>\n",
       "      <td>0</td>\n",
       "      <td>0</td>\n",
       "      <td>...</td>\n",
       "      <td>0</td>\n",
       "      <td>0</td>\n",
       "      <td>14.1</td>\n",
       "      <td>52.1</td>\n",
       "      <td>0</td>\n",
       "      <td>1009.8</td>\n",
       "      <td>335</td>\n",
       "      <td>2.7</td>\n",
       "      <td>116</td>\n",
       "      <td>0.19</td>\n",
       "    </tr>\n",
       "    <tr>\n",
       "      <th>38</th>\n",
       "      <td>2007-01-02T16:00:00Z</td>\n",
       "      <td>2007-01-02T15:00:00Z</td>\n",
       "      <td>PT60M</td>\n",
       "      <td>17.6</td>\n",
       "      <td>102</td>\n",
       "      <td>0.0</td>\n",
       "      <td>8.8</td>\n",
       "      <td>0</td>\n",
       "      <td>0</td>\n",
       "      <td>0</td>\n",
       "      <td>...</td>\n",
       "      <td>0</td>\n",
       "      <td>0</td>\n",
       "      <td>13.9</td>\n",
       "      <td>56.2</td>\n",
       "      <td>0</td>\n",
       "      <td>1010.1</td>\n",
       "      <td>340</td>\n",
       "      <td>2.9</td>\n",
       "      <td>129</td>\n",
       "      <td>0.19</td>\n",
       "    </tr>\n",
       "    <tr>\n",
       "      <th>39</th>\n",
       "      <td>2007-01-02T17:00:00Z</td>\n",
       "      <td>2007-01-02T16:00:00Z</td>\n",
       "      <td>PT60M</td>\n",
       "      <td>16.9</td>\n",
       "      <td>98</td>\n",
       "      <td>0.0</td>\n",
       "      <td>8.7</td>\n",
       "      <td>0</td>\n",
       "      <td>0</td>\n",
       "      <td>0</td>\n",
       "      <td>...</td>\n",
       "      <td>0</td>\n",
       "      <td>0</td>\n",
       "      <td>13.8</td>\n",
       "      <td>58.5</td>\n",
       "      <td>0</td>\n",
       "      <td>1010.1</td>\n",
       "      <td>345</td>\n",
       "      <td>2.8</td>\n",
       "      <td>143</td>\n",
       "      <td>0.19</td>\n",
       "    </tr>\n",
       "    <tr>\n",
       "      <th>40</th>\n",
       "      <td>2007-01-02T18:00:00Z</td>\n",
       "      <td>2007-01-02T17:00:00Z</td>\n",
       "      <td>PT60M</td>\n",
       "      <td>16.2</td>\n",
       "      <td>95</td>\n",
       "      <td>0.0</td>\n",
       "      <td>8.7</td>\n",
       "      <td>0</td>\n",
       "      <td>0</td>\n",
       "      <td>0</td>\n",
       "      <td>...</td>\n",
       "      <td>0</td>\n",
       "      <td>0</td>\n",
       "      <td>13.7</td>\n",
       "      <td>60.8</td>\n",
       "      <td>0</td>\n",
       "      <td>1010.1</td>\n",
       "      <td>352</td>\n",
       "      <td>2.7</td>\n",
       "      <td>156</td>\n",
       "      <td>0.19</td>\n",
       "    </tr>\n",
       "    <tr>\n",
       "      <th>41</th>\n",
       "      <td>2007-01-02T19:00:00Z</td>\n",
       "      <td>2007-01-02T18:00:00Z</td>\n",
       "      <td>PT60M</td>\n",
       "      <td>15.6</td>\n",
       "      <td>92</td>\n",
       "      <td>0.0</td>\n",
       "      <td>8.6</td>\n",
       "      <td>0</td>\n",
       "      <td>0</td>\n",
       "      <td>0</td>\n",
       "      <td>...</td>\n",
       "      <td>0</td>\n",
       "      <td>0</td>\n",
       "      <td>13.5</td>\n",
       "      <td>63.2</td>\n",
       "      <td>0</td>\n",
       "      <td>1010.0</td>\n",
       "      <td>357</td>\n",
       "      <td>2.6</td>\n",
       "      <td>170</td>\n",
       "      <td>0.19</td>\n",
       "    </tr>\n",
       "    <tr>\n",
       "      <th>42</th>\n",
       "      <td>2007-01-02T20:00:00Z</td>\n",
       "      <td>2007-01-02T19:00:00Z</td>\n",
       "      <td>PT60M</td>\n",
       "      <td>15.0</td>\n",
       "      <td>-90</td>\n",
       "      <td>0.0</td>\n",
       "      <td>8.6</td>\n",
       "      <td>0</td>\n",
       "      <td>0</td>\n",
       "      <td>0</td>\n",
       "      <td>...</td>\n",
       "      <td>0</td>\n",
       "      <td>0</td>\n",
       "      <td>13.3</td>\n",
       "      <td>65.7</td>\n",
       "      <td>0</td>\n",
       "      <td>1009.6</td>\n",
       "      <td>2</td>\n",
       "      <td>2.6</td>\n",
       "      <td>175</td>\n",
       "      <td>0.19</td>\n",
       "    </tr>\n",
       "    <tr>\n",
       "      <th>43</th>\n",
       "      <td>2007-01-02T21:00:00Z</td>\n",
       "      <td>2007-01-02T20:00:00Z</td>\n",
       "      <td>PT60M</td>\n",
       "      <td>14.5</td>\n",
       "      <td>-94</td>\n",
       "      <td>0.0</td>\n",
       "      <td>8.7</td>\n",
       "      <td>0</td>\n",
       "      <td>0</td>\n",
       "      <td>0</td>\n",
       "      <td>...</td>\n",
       "      <td>0</td>\n",
       "      <td>0</td>\n",
       "      <td>13.1</td>\n",
       "      <td>68.2</td>\n",
       "      <td>0</td>\n",
       "      <td>1009.2</td>\n",
       "      <td>7</td>\n",
       "      <td>2.6</td>\n",
       "      <td>162</td>\n",
       "      <td>0.19</td>\n",
       "    </tr>\n",
       "    <tr>\n",
       "      <th>44</th>\n",
       "      <td>2007-01-02T22:00:00Z</td>\n",
       "      <td>2007-01-02T21:00:00Z</td>\n",
       "      <td>PT60M</td>\n",
       "      <td>14.1</td>\n",
       "      <td>-97</td>\n",
       "      <td>0.0</td>\n",
       "      <td>8.9</td>\n",
       "      <td>0</td>\n",
       "      <td>0</td>\n",
       "      <td>0</td>\n",
       "      <td>...</td>\n",
       "      <td>0</td>\n",
       "      <td>0</td>\n",
       "      <td>13.0</td>\n",
       "      <td>71.3</td>\n",
       "      <td>0</td>\n",
       "      <td>1008.9</td>\n",
       "      <td>12</td>\n",
       "      <td>2.5</td>\n",
       "      <td>148</td>\n",
       "      <td>0.19</td>\n",
       "    </tr>\n",
       "    <tr>\n",
       "      <th>45</th>\n",
       "      <td>2007-01-02T23:00:00Z</td>\n",
       "      <td>2007-01-02T22:00:00Z</td>\n",
       "      <td>PT60M</td>\n",
       "      <td>13.8</td>\n",
       "      <td>-100</td>\n",
       "      <td>0.0</td>\n",
       "      <td>9.4</td>\n",
       "      <td>0</td>\n",
       "      <td>0</td>\n",
       "      <td>0</td>\n",
       "      <td>...</td>\n",
       "      <td>0</td>\n",
       "      <td>0</td>\n",
       "      <td>13.0</td>\n",
       "      <td>75.0</td>\n",
       "      <td>0</td>\n",
       "      <td>1008.9</td>\n",
       "      <td>19</td>\n",
       "      <td>2.5</td>\n",
       "      <td>135</td>\n",
       "      <td>0.19</td>\n",
       "    </tr>\n",
       "    <tr>\n",
       "      <th>46</th>\n",
       "      <td>2007-01-03T00:00:00Z</td>\n",
       "      <td>2007-01-02T23:00:00Z</td>\n",
       "      <td>PT60M</td>\n",
       "      <td>13.5</td>\n",
       "      <td>-104</td>\n",
       "      <td>0.0</td>\n",
       "      <td>9.9</td>\n",
       "      <td>0</td>\n",
       "      <td>0</td>\n",
       "      <td>0</td>\n",
       "      <td>...</td>\n",
       "      <td>0</td>\n",
       "      <td>0</td>\n",
       "      <td>13.0</td>\n",
       "      <td>78.9</td>\n",
       "      <td>0</td>\n",
       "      <td>1008.8</td>\n",
       "      <td>26</td>\n",
       "      <td>2.4</td>\n",
       "      <td>121</td>\n",
       "      <td>0.19</td>\n",
       "    </tr>\n",
       "    <tr>\n",
       "      <th>47</th>\n",
       "      <td>2007-01-03T01:00:00Z</td>\n",
       "      <td>2007-01-03T00:00:00Z</td>\n",
       "      <td>PT60M</td>\n",
       "      <td>13.6</td>\n",
       "      <td>-108</td>\n",
       "      <td>0.0</td>\n",
       "      <td>10.1</td>\n",
       "      <td>0</td>\n",
       "      <td>0</td>\n",
       "      <td>0</td>\n",
       "      <td>...</td>\n",
       "      <td>0</td>\n",
       "      <td>0</td>\n",
       "      <td>13.0</td>\n",
       "      <td>79.4</td>\n",
       "      <td>0</td>\n",
       "      <td>1009.0</td>\n",
       "      <td>31</td>\n",
       "      <td>2.4</td>\n",
       "      <td>108</td>\n",
       "      <td>0.19</td>\n",
       "    </tr>\n",
       "    <tr>\n",
       "      <th>48</th>\n",
       "      <td>2007-01-03T02:00:00Z</td>\n",
       "      <td>2007-01-03T01:00:00Z</td>\n",
       "      <td>PT60M</td>\n",
       "      <td>14.1</td>\n",
       "      <td>-113</td>\n",
       "      <td>0.0</td>\n",
       "      <td>10.1</td>\n",
       "      <td>2</td>\n",
       "      <td>6</td>\n",
       "      <td>1</td>\n",
       "      <td>...</td>\n",
       "      <td>3</td>\n",
       "      <td>2</td>\n",
       "      <td>13.1</td>\n",
       "      <td>76.7</td>\n",
       "      <td>0</td>\n",
       "      <td>1009.6</td>\n",
       "      <td>35</td>\n",
       "      <td>2.5</td>\n",
       "      <td>95</td>\n",
       "      <td>0.19</td>\n",
       "    </tr>\n",
       "    <tr>\n",
       "      <th>49</th>\n",
       "      <td>2007-01-03T03:00:00Z</td>\n",
       "      <td>2007-01-03T02:00:00Z</td>\n",
       "      <td>PT60M</td>\n",
       "      <td>14.6</td>\n",
       "      <td>-119</td>\n",
       "      <td>0.0</td>\n",
       "      <td>10.0</td>\n",
       "      <td>48</td>\n",
       "      <td>214</td>\n",
       "      <td>37</td>\n",
       "      <td>...</td>\n",
       "      <td>130</td>\n",
       "      <td>103</td>\n",
       "      <td>13.1</td>\n",
       "      <td>73.8</td>\n",
       "      <td>0</td>\n",
       "      <td>1010.1</td>\n",
       "      <td>38</td>\n",
       "      <td>2.5</td>\n",
       "      <td>83</td>\n",
       "      <td>0.19</td>\n",
       "    </tr>\n",
       "  </tbody>\n",
       "</table>\n",
       "<p>50 rows × 21 columns</p>\n",
       "</div>"
      ],
      "text/plain": [
       "               PeriodEnd           PeriodStart Period  AirTemp  Azimuth  \\\n",
       "0   2007-01-01T02:00:00Z  2007-01-01T01:00:00Z  PT60M     16.1     -113   \n",
       "1   2007-01-01T03:00:00Z  2007-01-01T02:00:00Z  PT60M     16.3     -119   \n",
       "2   2007-01-01T04:00:00Z  2007-01-01T03:00:00Z  PT60M     17.7     -127   \n",
       "3   2007-01-01T05:00:00Z  2007-01-01T04:00:00Z  PT60M     20.4     -137   \n",
       "4   2007-01-01T06:00:00Z  2007-01-01T05:00:00Z  PT60M     23.0     -150   \n",
       "5   2007-01-01T07:00:00Z  2007-01-01T06:00:00Z  PT60M     24.8     -167   \n",
       "6   2007-01-01T08:00:00Z  2007-01-01T07:00:00Z  PT60M     25.6      174   \n",
       "7   2007-01-01T09:00:00Z  2007-01-01T08:00:00Z  PT60M     26.4      157   \n",
       "8   2007-01-01T10:00:00Z  2007-01-01T09:00:00Z  PT60M     26.5      142   \n",
       "9   2007-01-01T11:00:00Z  2007-01-01T10:00:00Z  PT60M     26.0      131   \n",
       "10  2007-01-01T12:00:00Z  2007-01-01T11:00:00Z  PT60M     25.5      122   \n",
       "11  2007-01-01T13:00:00Z  2007-01-01T12:00:00Z  PT60M     24.2      115   \n",
       "12  2007-01-01T14:00:00Z  2007-01-01T13:00:00Z  PT60M     22.2      110   \n",
       "13  2007-01-01T15:00:00Z  2007-01-01T14:00:00Z  PT60M     20.2      106   \n",
       "14  2007-01-01T16:00:00Z  2007-01-01T15:00:00Z  PT60M     18.8      102   \n",
       "15  2007-01-01T17:00:00Z  2007-01-01T16:00:00Z  PT60M     18.0       98   \n",
       "16  2007-01-01T18:00:00Z  2007-01-01T17:00:00Z  PT60M     17.2       95   \n",
       "17  2007-01-01T19:00:00Z  2007-01-01T18:00:00Z  PT60M     16.6       93   \n",
       "18  2007-01-01T20:00:00Z  2007-01-01T19:00:00Z  PT60M     16.0      -93   \n",
       "19  2007-01-01T21:00:00Z  2007-01-01T20:00:00Z  PT60M     15.5      -94   \n",
       "20  2007-01-01T22:00:00Z  2007-01-01T21:00:00Z  PT60M     15.1      -97   \n",
       "21  2007-01-01T23:00:00Z  2007-01-01T22:00:00Z  PT60M     14.8     -100   \n",
       "22  2007-01-02T00:00:00Z  2007-01-01T23:00:00Z  PT60M     14.5     -104   \n",
       "23  2007-01-02T01:00:00Z  2007-01-02T00:00:00Z  PT60M     14.6     -108   \n",
       "24  2007-01-02T02:00:00Z  2007-01-02T01:00:00Z  PT60M     15.0     -113   \n",
       "25  2007-01-02T03:00:00Z  2007-01-02T02:00:00Z  PT60M     15.5     -119   \n",
       "26  2007-01-02T04:00:00Z  2007-01-02T03:00:00Z  PT60M     17.3     -127   \n",
       "27  2007-01-02T05:00:00Z  2007-01-02T04:00:00Z  PT60M     20.3     -137   \n",
       "28  2007-01-02T06:00:00Z  2007-01-02T05:00:00Z  PT60M     23.3     -150   \n",
       "29  2007-01-02T07:00:00Z  2007-01-02T06:00:00Z  PT60M     25.1     -167   \n",
       "30  2007-01-02T08:00:00Z  2007-01-02T07:00:00Z  PT60M     25.7      175   \n",
       "31  2007-01-02T09:00:00Z  2007-01-02T08:00:00Z  PT60M     26.3      157   \n",
       "32  2007-01-02T10:00:00Z  2007-01-02T09:00:00Z  PT60M     26.4      142   \n",
       "33  2007-01-02T11:00:00Z  2007-01-02T10:00:00Z  PT60M     25.8      131   \n",
       "34  2007-01-02T12:00:00Z  2007-01-02T11:00:00Z  PT60M     25.3      122   \n",
       "35  2007-01-02T13:00:00Z  2007-01-02T12:00:00Z  PT60M     23.8      115   \n",
       "36  2007-01-02T14:00:00Z  2007-01-02T13:00:00Z  PT60M     21.5      110   \n",
       "37  2007-01-02T15:00:00Z  2007-01-02T14:00:00Z  PT60M     19.1      106   \n",
       "38  2007-01-02T16:00:00Z  2007-01-02T15:00:00Z  PT60M     17.6      102   \n",
       "39  2007-01-02T17:00:00Z  2007-01-02T16:00:00Z  PT60M     16.9       98   \n",
       "40  2007-01-02T18:00:00Z  2007-01-02T17:00:00Z  PT60M     16.2       95   \n",
       "41  2007-01-02T19:00:00Z  2007-01-02T18:00:00Z  PT60M     15.6       92   \n",
       "42  2007-01-02T20:00:00Z  2007-01-02T19:00:00Z  PT60M     15.0      -90   \n",
       "43  2007-01-02T21:00:00Z  2007-01-02T20:00:00Z  PT60M     14.5      -94   \n",
       "44  2007-01-02T22:00:00Z  2007-01-02T21:00:00Z  PT60M     14.1      -97   \n",
       "45  2007-01-02T23:00:00Z  2007-01-02T22:00:00Z  PT60M     13.8     -100   \n",
       "46  2007-01-03T00:00:00Z  2007-01-02T23:00:00Z  PT60M     13.5     -104   \n",
       "47  2007-01-03T01:00:00Z  2007-01-03T00:00:00Z  PT60M     13.6     -108   \n",
       "48  2007-01-03T02:00:00Z  2007-01-03T01:00:00Z  PT60M     14.1     -113   \n",
       "49  2007-01-03T03:00:00Z  2007-01-03T02:00:00Z  PT60M     14.6     -119   \n",
       "\n",
       "    CloudOpacity  DewpointTemp  Dhi  Dni  Ebh  ...  GtiFixedTilt  GtiTracking  \\\n",
       "0            0.0          12.3    2    3    0  ...             3            2   \n",
       "1            0.0          12.1   52  120   22  ...            99           87   \n",
       "2            0.0          12.4  128  361  121  ...           335          427   \n",
       "3            0.0          12.9  181  520  255  ...           567          621   \n",
       "4            0.0          13.5  219  592  359  ...           734          668   \n",
       "5            0.0          13.6  263  570  385  ...           804          666   \n",
       "6            0.0          13.3  268  572  393  ...           818          668   \n",
       "7           11.8          12.9  340  306  202  ...           621          561   \n",
       "8           19.9          13.0  331  148   80  ...           446          456   \n",
       "9           28.1          13.5  225   40   14  ...           244          257   \n",
       "10           1.5          14.0   88  236   53  ...           192          197   \n",
       "11           0.0          14.1   13   25    3  ...            21           15   \n",
       "12           0.0          13.7    0    0    0  ...             0            0   \n",
       "13           0.0          13.3    0    0    0  ...             0            0   \n",
       "14           0.0          13.0    0    0    0  ...             0            0   \n",
       "15           0.0          12.9    0    0    0  ...             0            0   \n",
       "16           0.0          12.8    0    0    0  ...             0            0   \n",
       "17           0.0          12.8    0    0    0  ...             0            0   \n",
       "18           0.0          12.7    0    0    0  ...             0            0   \n",
       "19           0.0          12.6    0    0    0  ...             0            0   \n",
       "20           0.0          12.7    0    0    0  ...             0            0   \n",
       "21           0.0          12.8    0    0    0  ...             0            0   \n",
       "22           0.0          12.9    0    0    0  ...             0            0   \n",
       "23           0.0          12.8    0    0    0  ...             0            0   \n",
       "24           0.0          12.7    2    4    0  ...             3            2   \n",
       "25           0.0          12.6   50  170   30  ...           117           97   \n",
       "26           0.0          12.4  115  459  153  ...           375          489   \n",
       "27           0.0          12.2  157  621  304  ...           613          677   \n",
       "28           0.0          12.0  178  712  434  ...           792          715   \n",
       "29           0.0          11.4  161  810  548  ...           914          733   \n",
       "30           0.0          10.5  150  842  579  ...           942          738   \n",
       "31           0.0           9.6  148  814  524  ...           875          740   \n",
       "32           0.0           9.3  158  697  381  ...           711          714   \n",
       "33           0.0           9.8  132  564  227  ...           493          630   \n",
       "34           0.0          10.2   78  335   79  ...           232          248   \n",
       "35           0.0          10.1   14   38    5  ...            26           16   \n",
       "36           0.0           9.6    0    0    0  ...             0            0   \n",
       "37           0.0           9.1    0    0    0  ...             0            0   \n",
       "38           0.0           8.8    0    0    0  ...             0            0   \n",
       "39           0.0           8.7    0    0    0  ...             0            0   \n",
       "40           0.0           8.7    0    0    0  ...             0            0   \n",
       "41           0.0           8.6    0    0    0  ...             0            0   \n",
       "42           0.0           8.6    0    0    0  ...             0            0   \n",
       "43           0.0           8.7    0    0    0  ...             0            0   \n",
       "44           0.0           8.9    0    0    0  ...             0            0   \n",
       "45           0.0           9.4    0    0    0  ...             0            0   \n",
       "46           0.0           9.9    0    0    0  ...             0            0   \n",
       "47           0.0          10.1    0    0    0  ...             0            0   \n",
       "48           0.0          10.1    2    6    1  ...             3            2   \n",
       "49           0.0          10.0   48  214   37  ...           130          103   \n",
       "\n",
       "    PrecipitableWater  RelativeHumidity  SnowWater  SurfacePressure  \\\n",
       "0                21.0              78.1          0           1009.2   \n",
       "1                21.0              76.6          0           1009.9   \n",
       "2                20.9              70.9          0           1010.4   \n",
       "3                20.8              62.4          0           1010.6   \n",
       "4                20.6              55.0          0           1010.8   \n",
       "5                20.4              49.9          0           1010.4   \n",
       "6                20.3              46.4          0           1009.3   \n",
       "7                20.2              43.3          0           1008.2   \n",
       "8                20.2              43.2          0           1007.6   \n",
       "9                20.2              45.9          0           1007.5   \n",
       "10               20.3              49.0          0           1007.4   \n",
       "11               20.1              53.0          0           1007.7   \n",
       "12               19.6              58.5          0           1008.3   \n",
       "13               19.2              64.6          0           1008.9   \n",
       "14               18.8              69.3          0           1009.3   \n",
       "15               18.4              72.4          0           1009.3   \n",
       "16               18.0              75.5          0           1009.4   \n",
       "17               17.7              78.2          0           1009.2   \n",
       "18               17.4              80.6          0           1009.0   \n",
       "19               17.1              83.0          0           1008.7   \n",
       "20               16.8              85.3          0           1008.6   \n",
       "21               16.4              87.5          0           1008.8   \n",
       "22               16.1              89.6          0           1008.9   \n",
       "23               15.8              89.1          0           1009.3   \n",
       "24               15.6              86.0          0           1010.1   \n",
       "25               15.5              82.6          0           1010.8   \n",
       "26               15.3              73.1          0           1011.3   \n",
       "27               15.2              59.8          0           1011.6   \n",
       "28               15.1              49.1          0           1011.8   \n",
       "29               15.0              42.4          0           1011.4   \n",
       "30               14.9              38.4          0           1010.4   \n",
       "31               14.8              34.8          0           1009.4   \n",
       "32               14.7              34.2          0           1008.8   \n",
       "33               14.6              36.3          0           1008.7   \n",
       "34               14.5              38.7          0           1008.7   \n",
       "35               14.4              42.0          0           1008.9   \n",
       "36               14.2              46.8          0           1009.4   \n",
       "37               14.1              52.1          0           1009.8   \n",
       "38               13.9              56.2          0           1010.1   \n",
       "39               13.8              58.5          0           1010.1   \n",
       "40               13.7              60.8          0           1010.1   \n",
       "41               13.5              63.2          0           1010.0   \n",
       "42               13.3              65.7          0           1009.6   \n",
       "43               13.1              68.2          0           1009.2   \n",
       "44               13.0              71.3          0           1008.9   \n",
       "45               13.0              75.0          0           1008.9   \n",
       "46               13.0              78.9          0           1008.8   \n",
       "47               13.0              79.4          0           1009.0   \n",
       "48               13.1              76.7          0           1009.6   \n",
       "49               13.1              73.8          0           1010.1   \n",
       "\n",
       "    WindDirection10m  WindSpeed10m  Zenith  AlbedoDaily  \n",
       "0                 28           0.6      95         0.19  \n",
       "1                 36           0.5      83         0.19  \n",
       "2                 36           0.4      71         0.19  \n",
       "3                 21           0.3      61         0.19  \n",
       "4                352           0.2      53         0.19  \n",
       "5                322           0.4      48         0.19  \n",
       "6                314           0.7      47         0.19  \n",
       "7                311           1.1      50         0.19  \n",
       "8                309           1.3      57         0.19  \n",
       "9                308           1.4      67         0.19  \n",
       "10               307           1.4      78         0.19  \n",
       "11               318           1.7      90         0.19  \n",
       "12               333           2.2     103         0.19  \n",
       "13               342           2.8     116         0.19  \n",
       "14               351           2.8     129         0.19  \n",
       "15                 5           2.5     143         0.19  \n",
       "16                22           2.3     157         0.19  \n",
       "17                33           2.2     170         0.19  \n",
       "18                37           1.9     175         0.19  \n",
       "19                42           1.7     162         0.19  \n",
       "20                44           1.6     148         0.19  \n",
       "21                43           1.6     135         0.19  \n",
       "22                41           1.6     121         0.19  \n",
       "23                43           1.6     108         0.19  \n",
       "24                49           1.5      95         0.19  \n",
       "25                56           1.4      83         0.19  \n",
       "26                61           1.2      71         0.19  \n",
       "27                65           0.9      61         0.19  \n",
       "28                72           0.5      53         0.19  \n",
       "29                28           0.2      47         0.19  \n",
       "30               312           0.6      47         0.19  \n",
       "31               302           1.2      50         0.19  \n",
       "32               302           1.5      57         0.19  \n",
       "33               305           1.5      67         0.19  \n",
       "34               309           1.5      78         0.19  \n",
       "35               318           1.7      90         0.19  \n",
       "36               328           2.2     103         0.19  \n",
       "37               335           2.7     116         0.19  \n",
       "38               340           2.9     129         0.19  \n",
       "39               345           2.8     143         0.19  \n",
       "40               352           2.7     156         0.19  \n",
       "41               357           2.6     170         0.19  \n",
       "42                 2           2.6     175         0.19  \n",
       "43                 7           2.6     162         0.19  \n",
       "44                12           2.5     148         0.19  \n",
       "45                19           2.5     135         0.19  \n",
       "46                26           2.4     121         0.19  \n",
       "47                31           2.4     108         0.19  \n",
       "48                35           2.5      95         0.19  \n",
       "49                38           2.5      83         0.19  \n",
       "\n",
       "[50 rows x 21 columns]"
      ]
     },
     "execution_count": 184,
     "metadata": {},
     "output_type": "execute_result"
    }
   ],
   "source": [
    "df = pd.read_csv('file://localhost/home/nitish/Downloads/Ahmedabad.csv')\n",
    "df.head(50)"
   ]
  },
  {
   "cell_type": "code",
   "execution_count": 185,
   "id": "fa1e2041",
   "metadata": {
    "ExecuteTime": {
     "end_time": "2023-07-09T21:32:04.309005130Z",
     "start_time": "2023-07-09T21:32:04.293032781Z"
    },
    "id": "fa1e2041"
   },
   "outputs": [],
   "source": [
    "df.drop(columns =['PeriodStart','PeriodEnd','Period',  'Dhi',  'Dni', 'Ebh','Ghi','GtiFixedTilt', 'GtiTracking','AlbedoDaily','Azimuth', 'WindDirection10m', 'SnowWater'],axis =1,inplace =True)"
   ]
  },
  {
   "cell_type": "code",
   "execution_count": 69,
   "id": "58dcaf0c",
   "metadata": {
    "ExecuteTime": {
     "end_time": "2023-07-09T19:45:03.492195472Z",
     "start_time": "2023-07-09T19:45:03.463083668Z"
    },
    "id": "58dcaf0c"
   },
   "outputs": [],
   "source": [
    "#df.set_index(df['PeriodStart'], drop=False, append=False, inplace=True, verify_integrity=False)"
   ]
  },
  {
   "cell_type": "code",
   "execution_count": 4,
   "id": "4db4016d",
   "metadata": {
    "id": "4db4016d"
   },
   "outputs": [],
   "source": [
    "#df.drop(columns =['Zenith',\n",
    "  #'AlbedoDaily','SnowWater'], axis =1,inplace =True)"
   ]
  },
  {
   "cell_type": "code",
   "execution_count": 5,
   "id": "884882d8",
   "metadata": {
    "id": "884882d8"
   },
   "outputs": [],
   "source": [
    "#df= df.reset_index()"
   ]
  },
  {
   "cell_type": "code",
   "execution_count": 186,
   "id": "900ce22c",
   "metadata": {
    "ExecuteTime": {
     "end_time": "2023-07-09T21:32:16.205191947Z",
     "start_time": "2023-07-09T21:32:16.147812997Z"
    }
   },
   "outputs": [
    {
     "data": {
      "text/html": [
       "<div>\n",
       "<style scoped>\n",
       "    .dataframe tbody tr th:only-of-type {\n",
       "        vertical-align: middle;\n",
       "    }\n",
       "\n",
       "    .dataframe tbody tr th {\n",
       "        vertical-align: top;\n",
       "    }\n",
       "\n",
       "    .dataframe thead th {\n",
       "        text-align: right;\n",
       "    }\n",
       "</style>\n",
       "<table border=\"1\" class=\"dataframe\">\n",
       "  <thead>\n",
       "    <tr style=\"text-align: right;\">\n",
       "      <th></th>\n",
       "      <th>AirTemp</th>\n",
       "      <th>CloudOpacity</th>\n",
       "      <th>DewpointTemp</th>\n",
       "      <th>PrecipitableWater</th>\n",
       "      <th>RelativeHumidity</th>\n",
       "      <th>SurfacePressure</th>\n",
       "      <th>WindSpeed10m</th>\n",
       "      <th>Zenith</th>\n",
       "    </tr>\n",
       "  </thead>\n",
       "  <tbody>\n",
       "    <tr>\n",
       "      <th>0</th>\n",
       "      <td>16.1</td>\n",
       "      <td>0.0</td>\n",
       "      <td>12.3</td>\n",
       "      <td>21.0</td>\n",
       "      <td>78.1</td>\n",
       "      <td>1009.2</td>\n",
       "      <td>0.6</td>\n",
       "      <td>95</td>\n",
       "    </tr>\n",
       "    <tr>\n",
       "      <th>1</th>\n",
       "      <td>16.3</td>\n",
       "      <td>0.0</td>\n",
       "      <td>12.1</td>\n",
       "      <td>21.0</td>\n",
       "      <td>76.6</td>\n",
       "      <td>1009.9</td>\n",
       "      <td>0.5</td>\n",
       "      <td>83</td>\n",
       "    </tr>\n",
       "    <tr>\n",
       "      <th>2</th>\n",
       "      <td>17.7</td>\n",
       "      <td>0.0</td>\n",
       "      <td>12.4</td>\n",
       "      <td>20.9</td>\n",
       "      <td>70.9</td>\n",
       "      <td>1010.4</td>\n",
       "      <td>0.4</td>\n",
       "      <td>71</td>\n",
       "    </tr>\n",
       "    <tr>\n",
       "      <th>3</th>\n",
       "      <td>20.4</td>\n",
       "      <td>0.0</td>\n",
       "      <td>12.9</td>\n",
       "      <td>20.8</td>\n",
       "      <td>62.4</td>\n",
       "      <td>1010.6</td>\n",
       "      <td>0.3</td>\n",
       "      <td>61</td>\n",
       "    </tr>\n",
       "    <tr>\n",
       "      <th>4</th>\n",
       "      <td>23.0</td>\n",
       "      <td>0.0</td>\n",
       "      <td>13.5</td>\n",
       "      <td>20.6</td>\n",
       "      <td>55.0</td>\n",
       "      <td>1010.8</td>\n",
       "      <td>0.2</td>\n",
       "      <td>53</td>\n",
       "    </tr>\n",
       "    <tr>\n",
       "      <th>...</th>\n",
       "      <td>...</td>\n",
       "      <td>...</td>\n",
       "      <td>...</td>\n",
       "      <td>...</td>\n",
       "      <td>...</td>\n",
       "      <td>...</td>\n",
       "      <td>...</td>\n",
       "      <td>...</td>\n",
       "    </tr>\n",
       "    <tr>\n",
       "      <th>137441</th>\n",
       "      <td>29.7</td>\n",
       "      <td>42.8</td>\n",
       "      <td>20.8</td>\n",
       "      <td>46.8</td>\n",
       "      <td>59.0</td>\n",
       "      <td>1000.3</td>\n",
       "      <td>2.1</td>\n",
       "      <td>148</td>\n",
       "    </tr>\n",
       "    <tr>\n",
       "      <th>137442</th>\n",
       "      <td>29.2</td>\n",
       "      <td>43.1</td>\n",
       "      <td>20.8</td>\n",
       "      <td>45.8</td>\n",
       "      <td>60.7</td>\n",
       "      <td>1000.1</td>\n",
       "      <td>2.7</td>\n",
       "      <td>149</td>\n",
       "    </tr>\n",
       "    <tr>\n",
       "      <th>137443</th>\n",
       "      <td>28.6</td>\n",
       "      <td>40.0</td>\n",
       "      <td>20.9</td>\n",
       "      <td>45.1</td>\n",
       "      <td>62.9</td>\n",
       "      <td>999.8</td>\n",
       "      <td>2.9</td>\n",
       "      <td>144</td>\n",
       "    </tr>\n",
       "    <tr>\n",
       "      <th>137444</th>\n",
       "      <td>28.2</td>\n",
       "      <td>40.1</td>\n",
       "      <td>21.1</td>\n",
       "      <td>44.8</td>\n",
       "      <td>65.5</td>\n",
       "      <td>999.7</td>\n",
       "      <td>2.9</td>\n",
       "      <td>134</td>\n",
       "    </tr>\n",
       "    <tr>\n",
       "      <th>137445</th>\n",
       "      <td>27.9</td>\n",
       "      <td>40.2</td>\n",
       "      <td>21.4</td>\n",
       "      <td>44.5</td>\n",
       "      <td>67.9</td>\n",
       "      <td>999.7</td>\n",
       "      <td>3.0</td>\n",
       "      <td>122</td>\n",
       "    </tr>\n",
       "  </tbody>\n",
       "</table>\n",
       "<p>137446 rows × 8 columns</p>\n",
       "</div>"
      ],
      "text/plain": [
       "        AirTemp  CloudOpacity  DewpointTemp  PrecipitableWater  \\\n",
       "0          16.1           0.0          12.3               21.0   \n",
       "1          16.3           0.0          12.1               21.0   \n",
       "2          17.7           0.0          12.4               20.9   \n",
       "3          20.4           0.0          12.9               20.8   \n",
       "4          23.0           0.0          13.5               20.6   \n",
       "...         ...           ...           ...                ...   \n",
       "137441     29.7          42.8          20.8               46.8   \n",
       "137442     29.2          43.1          20.8               45.8   \n",
       "137443     28.6          40.0          20.9               45.1   \n",
       "137444     28.2          40.1          21.1               44.8   \n",
       "137445     27.9          40.2          21.4               44.5   \n",
       "\n",
       "        RelativeHumidity  SurfacePressure  WindSpeed10m  Zenith  \n",
       "0                   78.1           1009.2           0.6      95  \n",
       "1                   76.6           1009.9           0.5      83  \n",
       "2                   70.9           1010.4           0.4      71  \n",
       "3                   62.4           1010.6           0.3      61  \n",
       "4                   55.0           1010.8           0.2      53  \n",
       "...                  ...              ...           ...     ...  \n",
       "137441              59.0           1000.3           2.1     148  \n",
       "137442              60.7           1000.1           2.7     149  \n",
       "137443              62.9            999.8           2.9     144  \n",
       "137444              65.5            999.7           2.9     134  \n",
       "137445              67.9            999.7           3.0     122  \n",
       "\n",
       "[137446 rows x 8 columns]"
      ]
     },
     "execution_count": 186,
     "metadata": {},
     "output_type": "execute_result"
    }
   ],
   "source": [
    "df"
   ]
  },
  {
   "cell_type": "code",
   "execution_count": 176,
   "id": "06b6bd3f",
   "metadata": {
    "id": "06b6bd3f"
   },
   "outputs": [],
   "source": [
    "#df['PeriodStart'] =pd.to_datetime(df.PeriodStart)"
   ]
  },
  {
   "cell_type": "code",
   "execution_count": 177,
   "id": "6b339065",
   "metadata": {},
   "outputs": [
    {
     "data": {
      "text/html": [
       "<div>\n",
       "<style scoped>\n",
       "    .dataframe tbody tr th:only-of-type {\n",
       "        vertical-align: middle;\n",
       "    }\n",
       "\n",
       "    .dataframe tbody tr th {\n",
       "        vertical-align: top;\n",
       "    }\n",
       "\n",
       "    .dataframe thead th {\n",
       "        text-align: right;\n",
       "    }\n",
       "</style>\n",
       "<table border=\"1\" class=\"dataframe\">\n",
       "  <thead>\n",
       "    <tr style=\"text-align: right;\">\n",
       "      <th></th>\n",
       "      <th>PeriodStart</th>\n",
       "      <th>AirTemp</th>\n",
       "      <th>RelativeHumidity</th>\n",
       "      <th>SurfacePressure</th>\n",
       "      <th>WindDirection10m</th>\n",
       "      <th>WindSpeed10m</th>\n",
       "    </tr>\n",
       "  </thead>\n",
       "  <tbody>\n",
       "    <tr>\n",
       "      <th>0</th>\n",
       "      <td>2007-01-01T01:00:00Z</td>\n",
       "      <td>11.7</td>\n",
       "      <td>89.9</td>\n",
       "      <td>1004.0</td>\n",
       "      <td>307</td>\n",
       "      <td>1.7</td>\n",
       "    </tr>\n",
       "    <tr>\n",
       "      <th>1</th>\n",
       "      <td>2007-01-01T02:00:00Z</td>\n",
       "      <td>12.3</td>\n",
       "      <td>88.5</td>\n",
       "      <td>1004.6</td>\n",
       "      <td>288</td>\n",
       "      <td>1.8</td>\n",
       "    </tr>\n",
       "    <tr>\n",
       "      <th>2</th>\n",
       "      <td>2007-01-01T03:00:00Z</td>\n",
       "      <td>13.9</td>\n",
       "      <td>81.7</td>\n",
       "      <td>1005.0</td>\n",
       "      <td>282</td>\n",
       "      <td>2.0</td>\n",
       "    </tr>\n",
       "    <tr>\n",
       "      <th>3</th>\n",
       "      <td>2007-01-01T04:00:00Z</td>\n",
       "      <td>16.6</td>\n",
       "      <td>71.2</td>\n",
       "      <td>1005.1</td>\n",
       "      <td>285</td>\n",
       "      <td>2.2</td>\n",
       "    </tr>\n",
       "    <tr>\n",
       "      <th>4</th>\n",
       "      <td>2007-01-01T05:00:00Z</td>\n",
       "      <td>19.2</td>\n",
       "      <td>62.2</td>\n",
       "      <td>1005.2</td>\n",
       "      <td>288</td>\n",
       "      <td>2.4</td>\n",
       "    </tr>\n",
       "    <tr>\n",
       "      <th>...</th>\n",
       "      <td>...</td>\n",
       "      <td>...</td>\n",
       "      <td>...</td>\n",
       "      <td>...</td>\n",
       "      <td>...</td>\n",
       "      <td>...</td>\n",
       "    </tr>\n",
       "    <tr>\n",
       "      <th>137321</th>\n",
       "      <td>2022-08-31T18:00:00Z</td>\n",
       "      <td>29.6</td>\n",
       "      <td>67.9</td>\n",
       "      <td>990.2</td>\n",
       "      <td>196</td>\n",
       "      <td>2.4</td>\n",
       "    </tr>\n",
       "    <tr>\n",
       "      <th>137322</th>\n",
       "      <td>2022-08-31T19:00:00Z</td>\n",
       "      <td>29.0</td>\n",
       "      <td>71.3</td>\n",
       "      <td>990.0</td>\n",
       "      <td>203</td>\n",
       "      <td>2.4</td>\n",
       "    </tr>\n",
       "    <tr>\n",
       "      <th>137323</th>\n",
       "      <td>2022-08-31T20:00:00Z</td>\n",
       "      <td>28.6</td>\n",
       "      <td>73.6</td>\n",
       "      <td>989.7</td>\n",
       "      <td>210</td>\n",
       "      <td>2.1</td>\n",
       "    </tr>\n",
       "    <tr>\n",
       "      <th>137324</th>\n",
       "      <td>2022-08-31T21:00:00Z</td>\n",
       "      <td>28.4</td>\n",
       "      <td>75.2</td>\n",
       "      <td>989.4</td>\n",
       "      <td>207</td>\n",
       "      <td>1.7</td>\n",
       "    </tr>\n",
       "    <tr>\n",
       "      <th>137325</th>\n",
       "      <td>2022-08-31T22:00:00Z</td>\n",
       "      <td>28.1</td>\n",
       "      <td>76.8</td>\n",
       "      <td>989.4</td>\n",
       "      <td>186</td>\n",
       "      <td>1.4</td>\n",
       "    </tr>\n",
       "  </tbody>\n",
       "</table>\n",
       "<p>137326 rows × 6 columns</p>\n",
       "</div>"
      ],
      "text/plain": [
       "                 PeriodStart  AirTemp  RelativeHumidity  SurfacePressure  \\\n",
       "0       2007-01-01T01:00:00Z     11.7              89.9           1004.0   \n",
       "1       2007-01-01T02:00:00Z     12.3              88.5           1004.6   \n",
       "2       2007-01-01T03:00:00Z     13.9              81.7           1005.0   \n",
       "3       2007-01-01T04:00:00Z     16.6              71.2           1005.1   \n",
       "4       2007-01-01T05:00:00Z     19.2              62.2           1005.2   \n",
       "...                      ...      ...               ...              ...   \n",
       "137321  2022-08-31T18:00:00Z     29.6              67.9            990.2   \n",
       "137322  2022-08-31T19:00:00Z     29.0              71.3            990.0   \n",
       "137323  2022-08-31T20:00:00Z     28.6              73.6            989.7   \n",
       "137324  2022-08-31T21:00:00Z     28.4              75.2            989.4   \n",
       "137325  2022-08-31T22:00:00Z     28.1              76.8            989.4   \n",
       "\n",
       "        WindDirection10m  WindSpeed10m  \n",
       "0                    307           1.7  \n",
       "1                    288           1.8  \n",
       "2                    282           2.0  \n",
       "3                    285           2.2  \n",
       "4                    288           2.4  \n",
       "...                  ...           ...  \n",
       "137321               196           2.4  \n",
       "137322               203           2.4  \n",
       "137323               210           2.1  \n",
       "137324               207           1.7  \n",
       "137325               186           1.4  \n",
       "\n",
       "[137326 rows x 6 columns]"
      ]
     },
     "execution_count": 177,
     "metadata": {},
     "output_type": "execute_result"
    }
   ],
   "source": [
    "df"
   ]
  },
  {
   "cell_type": "code",
   "execution_count": 156,
   "id": "189975ce",
   "metadata": {
    "ExecuteTime": {
     "end_time": "2023-07-09T21:08:02.263071413Z",
     "start_time": "2023-07-09T21:08:02.240843219Z"
    },
    "id": "189975ce"
   },
   "outputs": [],
   "source": [
    "# These columns doesn't contribute in the  variance of Wind speed\n",
    "\n",
    "#Date and volume columns are not used in training.\n",
    "cols = list(df) #['Open', 'High', 'Low', 'Close', 'Adj Close']"
   ]
  },
  {
   "cell_type": "code",
   "execution_count": 193,
   "id": "ce1f6d9a",
   "metadata": {
    "ExecuteTime": {
     "end_time": "2023-07-09T21:39:34.591024022Z",
     "start_time": "2023-07-09T21:39:34.561544180Z"
    },
    "id": "ce1f6d9a",
    "outputId": "68204360-38b1-497b-d209-6a424542cf63"
   },
   "outputs": [
    {
     "data": {
      "text/plain": [
       "['AirTemp',\n",
       " 'CloudOpacity',\n",
       " 'DewpointTemp',\n",
       " 'PrecipitableWater',\n",
       " 'RelativeHumidity',\n",
       " 'SurfacePressure',\n",
       " 'WindSpeed10m',\n",
       " 'Zenith']"
      ]
     },
     "execution_count": 193,
     "metadata": {},
     "output_type": "execute_result"
    }
   ],
   "source": [
    "cols"
   ]
  },
  {
   "cell_type": "code",
   "execution_count": 188,
   "id": "1ed16734",
   "metadata": {
    "ExecuteTime": {
     "end_time": "2023-07-09T21:32:51.572221522Z",
     "start_time": "2023-07-09T21:32:51.556484642Z"
    },
    "id": "1ed16734"
   },
   "outputs": [],
   "source": [
    "df_for_training = df[cols[:]].astype(float)\n",
    "#n=pd.DataFrame(np.arange(0,137326),columns=['number'])\n",
    "#df_for_training=pd.concat([n,df_for_training],axis=1)"
   ]
  },
  {
   "cell_type": "code",
   "execution_count": 189,
   "id": "36c8be93",
   "metadata": {
    "ExecuteTime": {
     "end_time": "2023-07-09T21:32:56.423547026Z",
     "start_time": "2023-07-09T21:32:56.365604047Z"
    },
    "id": "36c8be93",
    "outputId": "8ffb2e8e-487e-4605-e0f3-525096553e6e"
   },
   "outputs": [
    {
     "data": {
      "text/html": [
       "<div>\n",
       "<style scoped>\n",
       "    .dataframe tbody tr th:only-of-type {\n",
       "        vertical-align: middle;\n",
       "    }\n",
       "\n",
       "    .dataframe tbody tr th {\n",
       "        vertical-align: top;\n",
       "    }\n",
       "\n",
       "    .dataframe thead th {\n",
       "        text-align: right;\n",
       "    }\n",
       "</style>\n",
       "<table border=\"1\" class=\"dataframe\">\n",
       "  <thead>\n",
       "    <tr style=\"text-align: right;\">\n",
       "      <th></th>\n",
       "      <th>AirTemp</th>\n",
       "      <th>CloudOpacity</th>\n",
       "      <th>DewpointTemp</th>\n",
       "      <th>PrecipitableWater</th>\n",
       "      <th>RelativeHumidity</th>\n",
       "      <th>SurfacePressure</th>\n",
       "      <th>WindSpeed10m</th>\n",
       "      <th>Zenith</th>\n",
       "    </tr>\n",
       "  </thead>\n",
       "  <tbody>\n",
       "    <tr>\n",
       "      <th>0</th>\n",
       "      <td>16.1</td>\n",
       "      <td>0.0</td>\n",
       "      <td>12.3</td>\n",
       "      <td>21.0</td>\n",
       "      <td>78.1</td>\n",
       "      <td>1009.2</td>\n",
       "      <td>0.6</td>\n",
       "      <td>95.0</td>\n",
       "    </tr>\n",
       "    <tr>\n",
       "      <th>1</th>\n",
       "      <td>16.3</td>\n",
       "      <td>0.0</td>\n",
       "      <td>12.1</td>\n",
       "      <td>21.0</td>\n",
       "      <td>76.6</td>\n",
       "      <td>1009.9</td>\n",
       "      <td>0.5</td>\n",
       "      <td>83.0</td>\n",
       "    </tr>\n",
       "    <tr>\n",
       "      <th>2</th>\n",
       "      <td>17.7</td>\n",
       "      <td>0.0</td>\n",
       "      <td>12.4</td>\n",
       "      <td>20.9</td>\n",
       "      <td>70.9</td>\n",
       "      <td>1010.4</td>\n",
       "      <td>0.4</td>\n",
       "      <td>71.0</td>\n",
       "    </tr>\n",
       "    <tr>\n",
       "      <th>3</th>\n",
       "      <td>20.4</td>\n",
       "      <td>0.0</td>\n",
       "      <td>12.9</td>\n",
       "      <td>20.8</td>\n",
       "      <td>62.4</td>\n",
       "      <td>1010.6</td>\n",
       "      <td>0.3</td>\n",
       "      <td>61.0</td>\n",
       "    </tr>\n",
       "    <tr>\n",
       "      <th>4</th>\n",
       "      <td>23.0</td>\n",
       "      <td>0.0</td>\n",
       "      <td>13.5</td>\n",
       "      <td>20.6</td>\n",
       "      <td>55.0</td>\n",
       "      <td>1010.8</td>\n",
       "      <td>0.2</td>\n",
       "      <td>53.0</td>\n",
       "    </tr>\n",
       "    <tr>\n",
       "      <th>...</th>\n",
       "      <td>...</td>\n",
       "      <td>...</td>\n",
       "      <td>...</td>\n",
       "      <td>...</td>\n",
       "      <td>...</td>\n",
       "      <td>...</td>\n",
       "      <td>...</td>\n",
       "      <td>...</td>\n",
       "    </tr>\n",
       "    <tr>\n",
       "      <th>137441</th>\n",
       "      <td>29.7</td>\n",
       "      <td>42.8</td>\n",
       "      <td>20.8</td>\n",
       "      <td>46.8</td>\n",
       "      <td>59.0</td>\n",
       "      <td>1000.3</td>\n",
       "      <td>2.1</td>\n",
       "      <td>148.0</td>\n",
       "    </tr>\n",
       "    <tr>\n",
       "      <th>137442</th>\n",
       "      <td>29.2</td>\n",
       "      <td>43.1</td>\n",
       "      <td>20.8</td>\n",
       "      <td>45.8</td>\n",
       "      <td>60.7</td>\n",
       "      <td>1000.1</td>\n",
       "      <td>2.7</td>\n",
       "      <td>149.0</td>\n",
       "    </tr>\n",
       "    <tr>\n",
       "      <th>137443</th>\n",
       "      <td>28.6</td>\n",
       "      <td>40.0</td>\n",
       "      <td>20.9</td>\n",
       "      <td>45.1</td>\n",
       "      <td>62.9</td>\n",
       "      <td>999.8</td>\n",
       "      <td>2.9</td>\n",
       "      <td>144.0</td>\n",
       "    </tr>\n",
       "    <tr>\n",
       "      <th>137444</th>\n",
       "      <td>28.2</td>\n",
       "      <td>40.1</td>\n",
       "      <td>21.1</td>\n",
       "      <td>44.8</td>\n",
       "      <td>65.5</td>\n",
       "      <td>999.7</td>\n",
       "      <td>2.9</td>\n",
       "      <td>134.0</td>\n",
       "    </tr>\n",
       "    <tr>\n",
       "      <th>137445</th>\n",
       "      <td>27.9</td>\n",
       "      <td>40.2</td>\n",
       "      <td>21.4</td>\n",
       "      <td>44.5</td>\n",
       "      <td>67.9</td>\n",
       "      <td>999.7</td>\n",
       "      <td>3.0</td>\n",
       "      <td>122.0</td>\n",
       "    </tr>\n",
       "  </tbody>\n",
       "</table>\n",
       "<p>137446 rows × 8 columns</p>\n",
       "</div>"
      ],
      "text/plain": [
       "        AirTemp  CloudOpacity  DewpointTemp  PrecipitableWater  \\\n",
       "0          16.1           0.0          12.3               21.0   \n",
       "1          16.3           0.0          12.1               21.0   \n",
       "2          17.7           0.0          12.4               20.9   \n",
       "3          20.4           0.0          12.9               20.8   \n",
       "4          23.0           0.0          13.5               20.6   \n",
       "...         ...           ...           ...                ...   \n",
       "137441     29.7          42.8          20.8               46.8   \n",
       "137442     29.2          43.1          20.8               45.8   \n",
       "137443     28.6          40.0          20.9               45.1   \n",
       "137444     28.2          40.1          21.1               44.8   \n",
       "137445     27.9          40.2          21.4               44.5   \n",
       "\n",
       "        RelativeHumidity  SurfacePressure  WindSpeed10m  Zenith  \n",
       "0                   78.1           1009.2           0.6    95.0  \n",
       "1                   76.6           1009.9           0.5    83.0  \n",
       "2                   70.9           1010.4           0.4    71.0  \n",
       "3                   62.4           1010.6           0.3    61.0  \n",
       "4                   55.0           1010.8           0.2    53.0  \n",
       "...                  ...              ...           ...     ...  \n",
       "137441              59.0           1000.3           2.1   148.0  \n",
       "137442              60.7           1000.1           2.7   149.0  \n",
       "137443              62.9            999.8           2.9   144.0  \n",
       "137444              65.5            999.7           2.9   134.0  \n",
       "137445              67.9            999.7           3.0   122.0  \n",
       "\n",
       "[137446 rows x 8 columns]"
      ]
     },
     "execution_count": 189,
     "metadata": {},
     "output_type": "execute_result"
    }
   ],
   "source": [
    "df_for_training"
   ]
  },
  {
   "cell_type": "code",
   "execution_count": 190,
   "id": "f9bce3e4",
   "metadata": {
    "ExecuteTime": {
     "end_time": "2023-07-09T21:33:03.698182403Z",
     "start_time": "2023-07-09T21:33:03.661123973Z"
    },
    "id": "f9bce3e4"
   },
   "outputs": [
    {
     "data": {
      "text/plain": [
       "array([[-1.8722491 , -0.59867308, -0.43613587, ...,  1.50201269,\n",
       "        -1.90306854,  0.1229432 ],\n",
       "       [-1.83934032, -0.59867308, -0.46306713, ...,  1.62766592,\n",
       "        -1.977697  , -0.15227907],\n",
       "       [-1.60897885, -0.59867308, -0.42267025, ...,  1.71741823,\n",
       "        -2.05232545, -0.42750133],\n",
       "       ...,\n",
       "       [ 0.18454978,  0.81175125,  0.721908  , ..., -0.18533068,\n",
       "        -0.18661404,  1.24676745],\n",
       "       [ 0.11873221,  0.81527731,  0.74883926, ..., -0.20328115,\n",
       "        -0.18661404,  1.01741556],\n",
       "       [ 0.06936904,  0.81880337,  0.78923613, ..., -0.20328115,\n",
       "        -0.11198558,  0.7421933 ]])"
      ]
     },
     "execution_count": 190,
     "metadata": {},
     "output_type": "execute_result"
    }
   ],
   "source": [
    "scaler = StandardScaler()\n",
    "scaler = scaler.fit(df_for_training)\n",
    "df_for_training_scaled = scaler.transform(df_for_training)\n",
    "df_for_training_scaled\n"
   ]
  },
  {
   "cell_type": "code",
   "execution_count": null,
   "id": "860e1548",
   "metadata": {},
   "outputs": [],
   "source": [
    "# a=0\n",
    "# for i in df_for_training_scaled:\n",
    "#     print(a,i[-1])\n",
    "#     a=a+1"
   ]
  },
  {
   "cell_type": "code",
   "execution_count": 161,
   "id": "ad01181b",
   "metadata": {
    "ExecuteTime": {
     "end_time": "2023-07-09T21:08:26.451229590Z",
     "start_time": "2023-07-09T21:08:26.400821105Z"
    }
   },
   "outputs": [],
   "source": [
    "l=len(df_for_training_scaled)"
   ]
  },
  {
   "cell_type": "code",
   "execution_count": 162,
   "id": "169ea34c",
   "metadata": {
    "ExecuteTime": {
     "end_time": "2023-07-09T21:08:27.618607260Z",
     "start_time": "2023-07-09T21:08:27.000738328Z"
    },
    "id": "169ea34c"
   },
   "outputs": [
    {
     "data": {
      "text/plain": [
       "(137432, 1)"
      ]
     },
     "execution_count": 162,
     "metadata": {},
     "output_type": "execute_result"
    }
   ],
   "source": [
    "trainX = []\n",
    "trainY = []\n",
    "\n",
    "n_future = 1   # Number of days we want to look into the future based on the past days.\n",
    "n_past = 14  # Number of past days we want to use to predict the future.\n",
    "\n",
    "#Reformat input data into a shape: (n_samples x timesteps x n_features)\n",
    "#In my example, my df_for_training_scaled has a shape (12823, 5)\n",
    "#12823 refers to the number of data points and 5 refers to the columns (multi-variables).\n",
    "for i in range(n_past, len(df_for_training_scaled) - n_future +1):\n",
    "    trainX.append(df_for_training_scaled[i - n_past:i, 0:df_for_training.shape[1]])\n",
    "    trainY.append(df_for_training_scaled[i + n_future - 1:i + n_future, -2])\n",
    "\n",
    "trainX, trainY = np.array(trainX), np.array(trainY)\n",
    "\n",
    "trainY.shape"
   ]
  },
  {
   "cell_type": "code",
   "execution_count": 76,
   "id": "afe43256",
   "metadata": {
    "ExecuteTime": {
     "end_time": "2023-07-09T19:45:36.201416406Z",
     "start_time": "2023-07-09T19:45:36.078273980Z"
    }
   },
   "outputs": [
    {
     "name": "stdout",
     "output_type": "stream",
     "text": [
      "(68662, 2)\n"
     ]
    },
    {
     "data": {
      "text/plain": [
       "array([[[-1.82802447, -0.54851159, -0.87032057, ...,  1.36170273,\n",
       "         -0.67317479,  0.00940918],\n",
       "        [-1.74787404, -0.05544802, -0.82973438, ...,  1.44782335,\n",
       "         -0.6019791 , -0.27546656]],\n",
       "\n",
       "       [[-1.53413955, -0.6254435 , -0.77561947, ...,  1.5052371 ,\n",
       "         -0.45958772, -0.512863  ],\n",
       "        [-1.17346259, -0.6254435 , -0.70797583, ...,  1.51959054,\n",
       "         -0.31719634, -0.72651981]],\n",
       "\n",
       "       [[-0.82614404, -0.6254435 , -0.64033219, ...,  1.53394398,\n",
       "         -0.17480495, -0.86895768],\n",
       "        [-0.61240955, -0.6254435 , -0.62680346, ...,  1.47653023,\n",
       "          0.03878212, -0.94017661]],\n",
       "\n",
       "       ...,\n",
       "\n",
       "       [[ 0.77686465,  2.76655415,  0.83429919, ..., -0.5903648 ,\n",
       "         -0.24600064,  0.76907781],\n",
       "        [ 0.69671421,  2.76655415,  0.84782792, ..., -0.56165792,\n",
       "         -0.10360926,  1.03021391]],\n",
       "\n",
       "       [[ 0.62992219,  2.74207582,  0.86135665, ..., -0.57601136,\n",
       "         -0.17480495,  1.19639142],\n",
       "        [ 0.56313016,  2.64765939,  0.87488538, ..., -0.61907167,\n",
       "         -0.17480495,  1.29135   ]],\n",
       "\n",
       "       [[ 0.48297972,  2.46582034,  0.91547156, ..., -0.64777855,\n",
       "         -0.17480495,  1.24387071],\n",
       "        [ 0.4295461 ,  2.72109439,  0.92900029, ..., -0.69083886,\n",
       "         -0.38839203,  1.0776932 ]]])"
      ]
     },
     "execution_count": 76,
     "metadata": {},
     "output_type": "execute_result"
    }
   ],
   "source": [
    "trainX = []\n",
    "trainY = []\n",
    "\n",
    "n_future = 2   # Number of days we want to look into the future based on the past days.\n",
    "#n_past = 14  # Number of past days we want to use to predict the future.\n",
    "\n",
    "#Reformat input data into a shape: (n_samples x timesteps x n_features)\n",
    "#In my example, my df_for_training_scaled has a shape (12823, 5)\n",
    "#12823 refers to the number of data points and 5 refers to the columns (multi-variables).\n",
    "for i in range(0,len(df_for_training_scaled)-n_future,n_future):\n",
    "    trainX.append(df_for_training_scaled[i :i+n_future, 0:df_for_training.shape[1]])\n",
    "    trainY.append(df_for_training_scaled[i+n_future:i+2*n_future,-1])\n",
    "trainX=np.array(trainX)\n",
    "trainY=np.array(trainY)\n",
    "print(trainY.shape)\n",
    "trainX"
   ]
  },
  {
   "cell_type": "code",
   "execution_count": 163,
   "id": "a774ad71",
   "metadata": {
    "ExecuteTime": {
     "end_time": "2023-07-09T21:08:36.828340594Z",
     "start_time": "2023-07-09T21:08:36.814804809Z"
    },
    "id": "a774ad71",
    "outputId": "721fb616-d2a3-405a-ba18-397322450c30"
   },
   "outputs": [
    {
     "name": "stdout",
     "output_type": "stream",
     "text": [
      "trainX shape == (137432, 14, 8).\n",
      "trainY shape == (137432, 1).\n"
     ]
    }
   ],
   "source": [
    "print('trainX shape == {}.'.format(trainX.shape))\n",
    "print('trainY shape == {}.'.format(trainY.shape))\n"
   ]
  },
  {
   "cell_type": "code",
   "execution_count": 164,
   "id": "34fbfa86",
   "metadata": {
    "ExecuteTime": {
     "end_time": "2023-07-09T21:08:40.168040799Z",
     "start_time": "2023-07-09T21:08:40.154534254Z"
    },
    "id": "34fbfa86",
    "outputId": "1de3b124-61fe-4998-8600-25ea703f89f6"
   },
   "outputs": [
    {
     "data": {
      "text/plain": [
       "(137432, 14, 8)"
      ]
     },
     "execution_count": 164,
     "metadata": {},
     "output_type": "execute_result"
    }
   ],
   "source": [
    "trainX.shape"
   ]
  },
  {
   "cell_type": "code",
   "execution_count": 165,
   "id": "e6a25434",
   "metadata": {
    "ExecuteTime": {
     "end_time": "2023-07-09T21:08:40.435949140Z",
     "start_time": "2023-07-09T21:08:40.421840055Z"
    },
    "id": "e6a25434",
    "outputId": "5ab20f5a-2bb9-4382-dbe8-a3c59c16dbc5"
   },
   "outputs": [
    {
     "data": {
      "text/plain": [
       "(137432, 1)"
      ]
     },
     "execution_count": 165,
     "metadata": {},
     "output_type": "execute_result"
    }
   ],
   "source": [
    "trainY.shape"
   ]
  },
  {
   "cell_type": "code",
   "execution_count": 177,
   "id": "9e0a7a18",
   "metadata": {
    "ExecuteTime": {
     "end_time": "2023-07-09T21:21:54.655350716Z",
     "start_time": "2023-07-09T21:21:54.363277341Z"
    },
    "id": "9e0a7a18",
    "outputId": "3cebdc0c-a742-43f0-b385-0308267e3517"
   },
   "outputs": [
    {
     "name": "stdout",
     "output_type": "stream",
     "text": [
      "Model: \"sequential_11\"\n",
      "_________________________________________________________________\n",
      " Layer (type)                Output Shape              Param #   \n",
      "=================================================================\n",
      " lstm_22 (LSTM)              (None, 14, 64)            18688     \n",
      "                                                                 \n",
      " lstm_23 (LSTM)              (None, 32)                12416     \n",
      "                                                                 \n",
      " dropout_11 (Dropout)        (None, 32)                0         \n",
      "                                                                 \n",
      " dense_11 (Dense)            (None, 1)                 33        \n",
      "                                                                 \n",
      "=================================================================\n",
      "Total params: 31137 (121.63 KB)\n",
      "Trainable params: 31137 (121.63 KB)\n",
      "Non-trainable params: 0 (0.00 Byte)\n",
      "_________________________________________________________________\n"
     ]
    }
   ],
   "source": [
    "model = Sequential()\n",
    "model.add(LSTM(64, activation='leaky_relu', input_shape=(trainX.shape[1], trainX.shape[2]), return_sequences=True,time_major=True))\n",
    "model.add(LSTM(32, activation='leaky_relu', return_sequences=False))\n",
    "model.add(Dropout(0.1))\n",
    "model.add(Dense(trainY.shape[1]))\n",
    "\n",
    "model.compile(optimizer='adam', loss='mse')\n",
    "model.summary()"
   ]
  },
  {
   "cell_type": "code",
   "execution_count": 178,
   "id": "882acc54",
   "metadata": {
    "ExecuteTime": {
     "end_time": "2023-07-09T21:27:13.675507310Z",
     "start_time": "2023-07-09T21:22:33.656247876Z"
    },
    "id": "882acc54",
    "outputId": "6b405a33-d4d5-4b40-e0b9-cd4b6f62f274"
   },
   "outputs": [
    {
     "name": "stdout",
     "output_type": "stream",
     "text": [
      "Epoch 1/5\n",
      "9515/9515 [==============================] - 52s 5ms/step - loss: 0.0529 - val_loss: 0.0778\n",
      "Epoch 2/5\n",
      "9515/9515 [==============================] - 57s 6ms/step - loss: 0.0298 - val_loss: 0.0751\n",
      "Epoch 3/5\n",
      "9515/9515 [==============================] - 57s 6ms/step - loss: 0.0273 - val_loss: 0.0751\n",
      "Epoch 4/5\n",
      "9515/9515 [==============================] - 57s 6ms/step - loss: 0.0261 - val_loss: 0.0725\n",
      "Epoch 5/5\n",
      "9515/9515 [==============================] - 57s 6ms/step - loss: 0.0248 - val_loss: 0.0700\n"
     ]
    }
   ],
   "source": [
    "history = model.fit(trainX, trainY, epochs=5, batch_size=13, validation_split=0.1, verbose=1)"
   ]
  },
  {
   "cell_type": "code",
   "execution_count": 88,
   "id": "f8319ba4",
   "metadata": {
    "ExecuteTime": {
     "end_time": "2023-07-09T19:51:21.678370219Z",
     "start_time": "2023-07-09T19:51:21.628346316Z"
    }
   },
   "outputs": [
    {
     "data": {
      "text/plain": [
       "<keras.src.callbacks.History at 0x7fd920171120>"
      ]
     },
     "execution_count": 88,
     "metadata": {},
     "output_type": "execute_result"
    }
   ],
   "source": [
    "history"
   ]
  },
  {
   "cell_type": "code",
   "execution_count": 179,
   "id": "c6f95d06",
   "metadata": {
    "ExecuteTime": {
     "end_time": "2023-07-09T21:28:50.746550508Z",
     "start_time": "2023-07-09T21:28:50.423006902Z"
    },
    "id": "c6f95d06",
    "outputId": "f2dd61df-e01e-41ac-94fc-5e7c73621214"
   },
   "outputs": [
    {
     "data": {
      "text/plain": [
       "<matplotlib.legend.Legend at 0x7fd8488231f0>"
      ]
     },
     "execution_count": 179,
     "metadata": {},
     "output_type": "execute_result"
    },
    {
     "data": {
      "image/png": "[encoded data removed]",
      "text/plain": [
       "<Figure size 640x480 with 1 Axes>"
      ]
     },
     "metadata": {},
     "output_type": "display_data"
    }
   ],
   "source": [
    "plt.plot(history.history['loss'], label='Training loss')\n",
    "plt.plot(history.history['val_loss'], label='Validation loss')\n",
    "plt.legend()"
   ]
  },
  {
   "cell_type": "code",
   "execution_count": null,
   "id": "836c9c73",
   "metadata": {},
   "outputs": [],
   "source": [
    "trainPredict = model.predict(trainX)"
   ]
  },
  {
   "cell_type": "code",
   "execution_count": null,
   "id": "cb44c67e",
   "metadata": {},
   "outputs": [],
   "source": [
    "# First 20 values predicted vs reel\n",
    "a=pd.DataFrame(trainPredict)\n",
    "\n",
    "b=pd.DataFrame(trainY)\n",
    "c=a-b\n",
    "pd.concat([a,b,c],axis=1).head(20)\n"
   ]
  },
  {
   "cell_type": "code",
   "execution_count": 331,
   "id": "215ac21d",
   "metadata": {
    "id": "215ac21d"
   },
   "outputs": [],
   "source": [
    "from pandas.tseries.holiday import USFederalHolidayCalendar\n",
    "from pandas.tseries.offsets import CustomBusinessDay\n",
    "us_bd = CustomBusinessDay(calendar=USFederalHolidayCalendar())"
   ]
  },
  {
   "cell_type": "code",
   "execution_count": 180,
   "id": "bccd4f73",
   "metadata": {
    "ExecuteTime": {
     "end_time": "2023-07-09T21:29:57.960194205Z",
     "start_time": "2023-07-09T21:29:45.238225059Z"
    },
    "id": "bccd4f73",
    "outputId": "be76195a-714c-4ba9-d031-e78ad5c90de5"
   },
   "outputs": [
    {
     "name": "stdout",
     "output_type": "stream",
     "text": [
      "4295/4295 [==============================] - 12s 3ms/step\n"
     ]
    }
   ],
   "source": []
  },
  {
   "cell_type": "code",
   "execution_count": 171,
   "id": "e30339a9",
   "metadata": {
    "ExecuteTime": {
     "end_time": "2023-07-09T21:13:26.126012086Z",
     "start_time": "2023-07-09T21:13:26.099273447Z"
    }
   },
   "outputs": [
    {
     "name": "stdout",
     "output_type": "stream",
     "text": [
      "(137432, 1)\n"
     ]
    }
   ],
   "source": [
    "trainPredict.shape\n",
    "print(trainY.shape)"
   ]
  },
  {
   "cell_type": "code",
   "execution_count": 1,
   "id": "bbd69d06",
   "metadata": {
    "ExecuteTime": {
     "end_time": "2023-07-16T18:03:32.670976313Z",
     "start_time": "2023-07-16T18:03:32.663941914Z"
    }
   },
   "outputs": [
    {
     "ename": "NameError",
     "evalue": "name 'pd' is not defined",
     "output_type": "error",
     "traceback": [
      "\u001b[0;31m---------------------------------------------------------------------------\u001b[0m",
      "\u001b[0;31mNameError\u001b[0m                                 Traceback (most recent call last)",
      "Cell \u001b[0;32mIn[1], line 1\u001b[0m\n\u001b[0;32m----> 1\u001b[0m a\u001b[38;5;241m=\u001b[39m\u001b[43mpd\u001b[49m\u001b[38;5;241m.\u001b[39mDataFrame(trainPredict)\n\u001b[1;32m      3\u001b[0m b\u001b[38;5;241m=\u001b[39mpd\u001b[38;5;241m.\u001b[39mDataFrame(trainY)\n\u001b[1;32m      4\u001b[0m c\u001b[38;5;241m=\u001b[39ma\u001b[38;5;241m-\u001b[39mb\n",
      "\u001b[0;31mNameError\u001b[0m: name 'pd' is not defined"
     ]
    }
   ],
   "source": [
    "a=pd.DataFrame(trainPredict)\n",
    "\n",
    "b=pd.DataFrame(trainY)\n",
    "c=a-b\n",
    "d = pd.concat([a,b,c],axis=1).head(20)\n",
    "d.columns = [original, estimated, difference]\n",
    "print(d)"
   ]
  },
  {
   "cell_type": "code",
   "execution_count": null,
   "id": "4bab3a82",
   "metadata": {},
   "outputs": [],
   "source": [
    "from sklearn.metrics import mean_squared_error\n",
    "trainScore = np.sqrt(mean_squared_error(a, b))\n",
    "print(trainScore)"
   ]
  },
  {
   "cell_type": "code",
   "execution_count": null,
   "id": "1c28f260",
   "metadata": {},
   "outputs": [],
   "source": [
    "#plot\n",
    "# test_predict_1 = model_1.predict(X_test)\n",
    "# print('RMSE :', np.sqrt(mean_squared_error(y_test, test_predict_1)))\n",
    "\n",
    "plt.figure(figsize = (20,10))\n",
    "#plt.grid(b=True, which='major', axis='both')\n",
    "plt.title('Testing prediction result (LSTM)', fontsize = 30)\n",
    "plt.plot(trainYinverse[91541::200],linewidth = 1, label='True', color = 'blue')\n",
    "plt.plot(trainPredictinverse[91541::200],linewidth = 1,color = 'red', label='Predicted')\n",
    "plt.xticks(fontsize = 20)\n",
    "plt.yticks(fontsize = 20)\n",
    "plt.legend(fontsize=25,shadow=True,facecolor='cyan', edgecolor = 'k')\n",
    "plt.show()"
   ]
  },
  {
   "cell_type": "code",
   "execution_count": 189,
   "id": "09b1ba73",
   "metadata": {},
   "outputs": [
    {
     "name": "stdout",
     "output_type": "stream",
     "text": [
      "1/1 [==============================] - 0s 150ms/step\n",
      "1/1 [==============================] - 0s 15ms/step\n",
      "1/1 [==============================] - 0s 13ms/step\n",
      "1/1 [==============================] - 0s 14ms/step\n",
      "1/1 [==============================] - 0s 13ms/step\n",
      "1/1 [==============================] - 0s 13ms/step\n",
      "1/1 [==============================] - 0s 14ms/step\n",
      "1/1 [==============================] - 0s 13ms/step\n",
      "1/1 [==============================] - 0s 14ms/step\n",
      "1/1 [==============================] - 0s 13ms/step\n",
      "1/1 [==============================] - 0s 13ms/step\n",
      "1/1 [==============================] - 0s 14ms/step\n",
      "1/1 [==============================] - 0s 16ms/step\n",
      "1/1 [==============================] - 0s 13ms/step\n",
      "1/1 [==============================] - 0s 13ms/step\n",
      "1/1 [==============================] - 0s 15ms/step\n",
      "1/1 [==============================] - 0s 13ms/step\n",
      "1/1 [==============================] - 0s 13ms/step\n",
      "1/1 [==============================] - 0s 13ms/step\n",
      "1/1 [==============================] - 0s 14ms/step\n",
      "1/1 [==============================] - 0s 13ms/step\n",
      "1/1 [==============================] - 0s 14ms/step\n",
      "1/1 [==============================] - 0s 13ms/step\n",
      "1/1 [==============================] - 0s 13ms/step\n"
     ]
    }
   ],
   "source": [
    "predictions=[]\n",
    "trainX_new=trainX\n",
    "for i in range(24):\n",
    "    trainX_last=trainX_new[-14:]\n",
    "    trainPredict = model.predict(trainX_last)\n",
    "    trainPredict=trainPredict.reshape((1,14,5))\n",
    "    trainX_new=np.concatenate((trainX_new,trainPredict))\n",
    "    "
   ]
  },
  {
   "cell_type": "code",
   "execution_count": 190,
   "id": "5b1e6c45",
   "metadata": {},
   "outputs": [
    {
     "name": "stdout",
     "output_type": "stream",
     "text": [
      "[[  11.7          89.9        1004.          307.            1.7       ]\n",
      " [  12.3          88.5        1004.6         288.            1.8       ]\n",
      " [  13.9          81.7        1005.          282.            2.        ]\n",
      " ...\n",
      " [  25.02146819   81.6573843   994.44437826  258.38507724    1.84936513]\n",
      " [  24.96375299   80.5083894   994.75964414  264.32655277    1.86592358]\n",
      " [  24.85436563   79.47923857  995.05734364  269.47699667    1.88726099]]\n",
      "(137336, 5)\n"
     ]
    }
   ],
   "source": [
    "y_pred_future = scaler.inverse_transform(trainX_new[:,0,:])\n",
    "print(y_pred_future)\n",
    "print(y_pred_future.shape)"
   ]
  },
  {
   "cell_type": "code",
   "execution_count": 112,
   "id": "4da9cb6d",
   "metadata": {
    "id": "4da9cb6d",
    "outputId": "00627ef3-1605-48bd-a159-b1efd8882792"
   },
   "outputs": [
    {
     "data": {
      "text/html": [
       "<div>\n",
       "<style scoped>\n",
       "    .dataframe tbody tr th:only-of-type {\n",
       "        vertical-align: middle;\n",
       "    }\n",
       "\n",
       "    .dataframe tbody tr th {\n",
       "        vertical-align: top;\n",
       "    }\n",
       "\n",
       "    .dataframe thead th {\n",
       "        text-align: right;\n",
       "    }\n",
       "</style>\n",
       "<table border=\"1\" class=\"dataframe\">\n",
       "  <thead>\n",
       "    <tr style=\"text-align: right;\">\n",
       "      <th></th>\n",
       "      <th>0</th>\n",
       "      <th>0</th>\n",
       "      <th>0</th>\n",
       "    </tr>\n",
       "  </thead>\n",
       "  <tbody>\n",
       "    <tr>\n",
       "      <th>0</th>\n",
       "      <td>0.111225</td>\n",
       "      <td>0.109978</td>\n",
       "      <td>0.001248</td>\n",
       "    </tr>\n",
       "    <tr>\n",
       "      <th>1</th>\n",
       "      <td>0.064208</td>\n",
       "      <td>0.252369</td>\n",
       "      <td>-0.188162</td>\n",
       "    </tr>\n",
       "    <tr>\n",
       "      <th>2</th>\n",
       "      <td>0.409714</td>\n",
       "      <td>0.109978</td>\n",
       "      <td>0.299736</td>\n",
       "    </tr>\n",
       "    <tr>\n",
       "      <th>3</th>\n",
       "      <td>-0.108966</td>\n",
       "      <td>-0.317196</td>\n",
       "      <td>0.208230</td>\n",
       "    </tr>\n",
       "    <tr>\n",
       "      <th>4</th>\n",
       "      <td>-0.503148</td>\n",
       "      <td>-0.388392</td>\n",
       "      <td>-0.114756</td>\n",
       "    </tr>\n",
       "    <tr>\n",
       "      <th>5</th>\n",
       "      <td>-0.217914</td>\n",
       "      <td>-0.246001</td>\n",
       "      <td>0.028087</td>\n",
       "    </tr>\n",
       "    <tr>\n",
       "      <th>6</th>\n",
       "      <td>-0.139983</td>\n",
       "      <td>-0.246001</td>\n",
       "      <td>0.106018</td>\n",
       "    </tr>\n",
       "    <tr>\n",
       "      <th>7</th>\n",
       "      <td>-0.279941</td>\n",
       "      <td>-0.103609</td>\n",
       "      <td>-0.176332</td>\n",
       "    </tr>\n",
       "    <tr>\n",
       "      <th>8</th>\n",
       "      <td>0.069243</td>\n",
       "      <td>-0.174805</td>\n",
       "      <td>0.244048</td>\n",
       "    </tr>\n",
       "    <tr>\n",
       "      <th>9</th>\n",
       "      <td>-0.312496</td>\n",
       "      <td>-0.174805</td>\n",
       "      <td>-0.137691</td>\n",
       "    </tr>\n",
       "    <tr>\n",
       "      <th>10</th>\n",
       "      <td>-0.094893</td>\n",
       "      <td>-0.174805</td>\n",
       "      <td>0.079912</td>\n",
       "    </tr>\n",
       "    <tr>\n",
       "      <th>11</th>\n",
       "      <td>-0.197324</td>\n",
       "      <td>-0.388392</td>\n",
       "      <td>0.191068</td>\n",
       "    </tr>\n",
       "    <tr>\n",
       "      <th>12</th>\n",
       "      <td>-0.578092</td>\n",
       "      <td>-0.673175</td>\n",
       "      <td>0.095083</td>\n",
       "    </tr>\n",
       "    <tr>\n",
       "      <th>13</th>\n",
       "      <td>-0.756262</td>\n",
       "      <td>-0.886762</td>\n",
       "      <td>0.130500</td>\n",
       "    </tr>\n",
       "  </tbody>\n",
       "</table>\n",
       "</div>"
      ],
      "text/plain": [
       "           0         0         0\n",
       "0   0.111225  0.109978  0.001248\n",
       "1   0.064208  0.252369 -0.188162\n",
       "2   0.409714  0.109978  0.299736\n",
       "3  -0.108966 -0.317196  0.208230\n",
       "4  -0.503148 -0.388392 -0.114756\n",
       "5  -0.217914 -0.246001  0.028087\n",
       "6  -0.139983 -0.246001  0.106018\n",
       "7  -0.279941 -0.103609 -0.176332\n",
       "8   0.069243 -0.174805  0.244048\n",
       "9  -0.312496 -0.174805 -0.137691\n",
       "10 -0.094893 -0.174805  0.079912\n",
       "11 -0.197324 -0.388392  0.191068\n",
       "12 -0.578092 -0.673175  0.095083\n",
       "13 -0.756262 -0.886762  0.130500"
      ]
     },
     "execution_count": 112,
     "metadata": {},
     "output_type": "execute_result"
    }
   ],
   "source": []
  },
  {
   "cell_type": "code",
   "execution_count": 182,
   "id": "01c5e7e0",
   "metadata": {
    "ExecuteTime": {
     "end_time": "2023-07-09T21:30:19.237423463Z",
     "start_time": "2023-07-09T21:30:19.191535788Z"
    },
    "id": "01c5e7e0"
   },
   "outputs": [],
   "source": [
    "from sklearn.metrics import mean_squared_error\n",
    "trainScore = np.sqrt(mean_squared_error(a, b))"
   ]
  },
  {
   "cell_type": "code",
   "execution_count": 183,
   "id": "a519a325",
   "metadata": {
    "ExecuteTime": {
     "end_time": "2023-07-09T21:30:20.045991195Z",
     "start_time": "2023-07-09T21:30:20.033891711Z"
    },
    "id": "a519a325",
    "outputId": "ebe255ed-02ab-4f79-b4b2-21d6456f4822"
   },
   "outputs": [
    {
     "data": {
      "text/plain": [
       "0.15414746809839916"
      ]
     },
     "execution_count": 183,
     "metadata": {},
     "output_type": "execute_result"
    }
   ],
   "source": [
    "trainScore # varanasi data"
   ]
  },
  {
   "cell_type": "code",
   "execution_count": 191,
   "id": "5c2c0d25",
   "metadata": {
    "ExecuteTime": {
     "end_time": "2023-07-09T21:36:52.475563682Z",
     "start_time": "2023-07-09T21:36:52.427387955Z"
    }
   },
   "outputs": [],
   "source": [
    "#inverse\n",
    "trainYinverse = (trainY+1.903069)/0.74628+0.6\n",
    "trainPredictinverse = (trainPredict+1.903069)/0.74628+0.6\n"
   ]
  },
  {
   "cell_type": "code",
   "execution_count": 192,
   "id": "f47f061f",
   "metadata": {
    "ExecuteTime": {
     "end_time": "2023-07-09T21:37:01.710981396Z",
     "start_time": "2023-07-09T21:37:01.468385195Z"
    }
   },
   "outputs": [
    {
     "data": {
      "image/png": "[encoded data removed]",
      "text/plain": [
       "<Figure size 2000x1000 with 1 Axes>"
      ]
     },
     "metadata": {},
     "output_type": "display_data"
    }
   ],
   "source": [
    "# test_predict_1 = model_1.predict(X_test)\n",
    "# print('RMSE :', np.sqrt(mean_squared_error(y_test, test_predict_1)))\n",
    "\n",
    "plt.figure(figsize = (20,10))\n",
    "#plt.grid(b=True, which='major', axis='both')\n",
    "plt.title('Testing prediction result (LSTM)', fontsize = 30)\n",
    "plt.plot(trainYinverse[91541::200],linewidth = 1, label='True', color = 'blue')\n",
    "plt.plot(trainPredictinverse[91541::200],linewidth = 1,color = 'red', label='Predicted')\n",
    "plt.xticks(fontsize = 20)\n",
    "plt.yticks(fontsize = 20)\n",
    "plt.legend(fontsize=25,shadow=True,facecolor='cyan', edgecolor = 'k')\n",
    "plt.show()"
   ]
  },
  {
   "cell_type": "markdown",
   "id": "6d5bbd1c",
   "metadata": {
    "id": "6d5bbd1c"
   },
   "source": [
    "`# Luckhnow Data"
   ]
  },
  {
   "cell_type": "code",
   "execution_count": 75,
   "id": "a21c194b",
   "metadata": {
    "id": "a21c194b",
    "outputId": "ccf6d664-7c7c-4b70-8a84-043c5987ff54"
   },
   "outputs": [
    {
     "data": {
      "text/html": [
       "<div>\n",
       "<style scoped>\n",
       "    .dataframe tbody tr th:only-of-type {\n",
       "        vertical-align: middle;\n",
       "    }\n",
       "\n",
       "    .dataframe tbody tr th {\n",
       "        vertical-align: top;\n",
       "    }\n",
       "\n",
       "    .dataframe thead th {\n",
       "        text-align: right;\n",
       "    }\n",
       "</style>\n",
       "<table border=\"1\" class=\"dataframe\">\n",
       "  <thead>\n",
       "    <tr style=\"text-align: right;\">\n",
       "      <th></th>\n",
       "      <th>PeriodEnd</th>\n",
       "      <th>PeriodStart</th>\n",
       "      <th>Period</th>\n",
       "      <th>AirTemp</th>\n",
       "      <th>DewpointTemp</th>\n",
       "      <th>PrecipitableWater</th>\n",
       "      <th>RelativeHumidity</th>\n",
       "      <th>SurfacePressure</th>\n",
       "      <th>WindSpeed10m</th>\n",
       "      <th>WindDirection10m</th>\n",
       "      <th>Zenith</th>\n",
       "      <th>AlbedoDaily</th>\n",
       "    </tr>\n",
       "  </thead>\n",
       "  <tbody>\n",
       "    <tr>\n",
       "      <th>0</th>\n",
       "      <td>2007-01-01T02:00:00Z</td>\n",
       "      <td>2007-01-01T01:00:00Z</td>\n",
       "      <td>PT60M</td>\n",
       "      <td>11.7</td>\n",
       "      <td>10.1</td>\n",
       "      <td>17.3</td>\n",
       "      <td>89.9</td>\n",
       "      <td>1004.0</td>\n",
       "      <td>1.7</td>\n",
       "      <td>307</td>\n",
       "      <td>90</td>\n",
       "      <td>0.2</td>\n",
       "    </tr>\n",
       "    <tr>\n",
       "      <th>1</th>\n",
       "      <td>2007-01-01T03:00:00Z</td>\n",
       "      <td>2007-01-01T02:00:00Z</td>\n",
       "      <td>PT60M</td>\n",
       "      <td>12.3</td>\n",
       "      <td>10.4</td>\n",
       "      <td>16.7</td>\n",
       "      <td>88.5</td>\n",
       "      <td>1004.6</td>\n",
       "      <td>1.8</td>\n",
       "      <td>288</td>\n",
       "      <td>78</td>\n",
       "      <td>0.2</td>\n",
       "    </tr>\n",
       "    <tr>\n",
       "      <th>2</th>\n",
       "      <td>2007-01-01T04:00:00Z</td>\n",
       "      <td>2007-01-01T03:00:00Z</td>\n",
       "      <td>PT60M</td>\n",
       "      <td>13.9</td>\n",
       "      <td>10.8</td>\n",
       "      <td>16.3</td>\n",
       "      <td>81.7</td>\n",
       "      <td>1005.0</td>\n",
       "      <td>2.0</td>\n",
       "      <td>282</td>\n",
       "      <td>68</td>\n",
       "      <td>0.2</td>\n",
       "    </tr>\n",
       "    <tr>\n",
       "      <th>3</th>\n",
       "      <td>2007-01-01T05:00:00Z</td>\n",
       "      <td>2007-01-01T04:00:00Z</td>\n",
       "      <td>PT60M</td>\n",
       "      <td>16.6</td>\n",
       "      <td>11.3</td>\n",
       "      <td>15.9</td>\n",
       "      <td>71.2</td>\n",
       "      <td>1005.1</td>\n",
       "      <td>2.2</td>\n",
       "      <td>285</td>\n",
       "      <td>59</td>\n",
       "      <td>0.2</td>\n",
       "    </tr>\n",
       "    <tr>\n",
       "      <th>4</th>\n",
       "      <td>2007-01-01T06:00:00Z</td>\n",
       "      <td>2007-01-01T05:00:00Z</td>\n",
       "      <td>PT60M</td>\n",
       "      <td>19.2</td>\n",
       "      <td>11.8</td>\n",
       "      <td>15.5</td>\n",
       "      <td>62.2</td>\n",
       "      <td>1005.2</td>\n",
       "      <td>2.4</td>\n",
       "      <td>288</td>\n",
       "      <td>53</td>\n",
       "      <td>0.2</td>\n",
       "    </tr>\n",
       "  </tbody>\n",
       "</table>\n",
       "</div>"
      ],
      "text/plain": [
       "              PeriodEnd           PeriodStart Period  AirTemp  DewpointTemp  \\\n",
       "0  2007-01-01T02:00:00Z  2007-01-01T01:00:00Z  PT60M     11.7          10.1   \n",
       "1  2007-01-01T03:00:00Z  2007-01-01T02:00:00Z  PT60M     12.3          10.4   \n",
       "2  2007-01-01T04:00:00Z  2007-01-01T03:00:00Z  PT60M     13.9          10.8   \n",
       "3  2007-01-01T05:00:00Z  2007-01-01T04:00:00Z  PT60M     16.6          11.3   \n",
       "4  2007-01-01T06:00:00Z  2007-01-01T05:00:00Z  PT60M     19.2          11.8   \n",
       "\n",
       "   PrecipitableWater  RelativeHumidity  SurfacePressure  WindSpeed10m  \\\n",
       "0               17.3              89.9           1004.0           1.7   \n",
       "1               16.7              88.5           1004.6           1.8   \n",
       "2               16.3              81.7           1005.0           2.0   \n",
       "3               15.9              71.2           1005.1           2.2   \n",
       "4               15.5              62.2           1005.2           2.4   \n",
       "\n",
       "   WindDirection10m  Zenith  AlbedoDaily  \n",
       "0               307      90          0.2  \n",
       "1               288      78          0.2  \n",
       "2               282      68          0.2  \n",
       "3               285      59          0.2  \n",
       "4               288      53          0.2  "
      ]
     },
     "execution_count": 75,
     "metadata": {},
     "output_type": "execute_result"
    }
   ],
   "source": [
    "df = pd.read_csv('file://localhost/home/nitish/Downloads/lukhnow.csv')\n",
    "df.head()"
   ]
  },
  {
   "cell_type": "code",
   "execution_count": 76,
   "id": "df8e0597",
   "metadata": {
    "id": "df8e0597"
   },
   "outputs": [],
   "source": [
    "df.drop(columns =['PeriodEnd','Period','Zenith','WindDirection10m','AlbedoDaily'],axis =1,inplace =True)"
   ]
  },
  {
   "cell_type": "code",
   "execution_count": null,
   "id": "d064ee9e",
   "metadata": {
    "id": "d064ee9e"
   },
   "outputs": [],
   "source": []
  },
  {
   "cell_type": "code",
   "execution_count": 77,
   "id": "d6a373be",
   "metadata": {
    "id": "d6a373be"
   },
   "outputs": [],
   "source": [
    "df.set_index(df['PeriodStart'], drop=False, append=False, inplace=True, verify_integrity=False)"
   ]
  },
  {
   "cell_type": "code",
   "execution_count": 78,
   "id": "54cc3011",
   "metadata": {
    "id": "54cc3011"
   },
   "outputs": [],
   "source": [
    "df['PeriodStart'] =pd.to_datetime(df.PeriodStart)"
   ]
  },
  {
   "cell_type": "code",
   "execution_count": null,
   "id": "72f43e00",
   "metadata": {
    "id": "72f43e00",
    "outputId": "6c79e385-b809-4f33-e608-930046136f9a"
   },
   "outputs": [
    {
     "data": {
      "text/html": [
       "<div>\n",
       "<style scoped>\n",
       "    .dataframe tbody tr th:only-of-type {\n",
       "        vertical-align: middle;\n",
       "    }\n",
       "\n",
       "    .dataframe tbody tr th {\n",
       "        vertical-align: top;\n",
       "    }\n",
       "\n",
       "    .dataframe thead th {\n",
       "        text-align: right;\n",
       "    }\n",
       "</style>\n",
       "<table border=\"1\" class=\"dataframe\">\n",
       "  <thead>\n",
       "    <tr style=\"text-align: right;\">\n",
       "      <th></th>\n",
       "      <th>PeriodStart</th>\n",
       "      <th>AirTemp</th>\n",
       "      <th>DewpointTemp</th>\n",
       "      <th>PrecipitableWater</th>\n",
       "      <th>RelativeHumidity</th>\n",
       "      <th>SurfacePressure</th>\n",
       "      <th>WindSpeed10m</th>\n",
       "    </tr>\n",
       "    <tr>\n",
       "      <th>PeriodStart</th>\n",
       "      <th></th>\n",
       "      <th></th>\n",
       "      <th></th>\n",
       "      <th></th>\n",
       "      <th></th>\n",
       "      <th></th>\n",
       "      <th></th>\n",
       "    </tr>\n",
       "  </thead>\n",
       "  <tbody>\n",
       "    <tr>\n",
       "      <th>2007-01-01T01:00:00Z</th>\n",
       "      <td>2007-01-01 01:00:00+00:00</td>\n",
       "      <td>11.7</td>\n",
       "      <td>10.1</td>\n",
       "      <td>17.3</td>\n",
       "      <td>89.9</td>\n",
       "      <td>1004.0</td>\n",
       "      <td>1.7</td>\n",
       "    </tr>\n",
       "    <tr>\n",
       "      <th>2007-01-01T02:00:00Z</th>\n",
       "      <td>2007-01-01 02:00:00+00:00</td>\n",
       "      <td>12.3</td>\n",
       "      <td>10.4</td>\n",
       "      <td>16.7</td>\n",
       "      <td>88.5</td>\n",
       "      <td>1004.6</td>\n",
       "      <td>1.8</td>\n",
       "    </tr>\n",
       "    <tr>\n",
       "      <th>2007-01-01T03:00:00Z</th>\n",
       "      <td>2007-01-01 03:00:00+00:00</td>\n",
       "      <td>13.9</td>\n",
       "      <td>10.8</td>\n",
       "      <td>16.3</td>\n",
       "      <td>81.7</td>\n",
       "      <td>1005.0</td>\n",
       "      <td>2.0</td>\n",
       "    </tr>\n",
       "    <tr>\n",
       "      <th>2007-01-01T04:00:00Z</th>\n",
       "      <td>2007-01-01 04:00:00+00:00</td>\n",
       "      <td>16.6</td>\n",
       "      <td>11.3</td>\n",
       "      <td>15.9</td>\n",
       "      <td>71.2</td>\n",
       "      <td>1005.1</td>\n",
       "      <td>2.2</td>\n",
       "    </tr>\n",
       "    <tr>\n",
       "      <th>2007-01-01T05:00:00Z</th>\n",
       "      <td>2007-01-01 05:00:00+00:00</td>\n",
       "      <td>19.2</td>\n",
       "      <td>11.8</td>\n",
       "      <td>15.5</td>\n",
       "      <td>62.2</td>\n",
       "      <td>1005.2</td>\n",
       "      <td>2.4</td>\n",
       "    </tr>\n",
       "  </tbody>\n",
       "</table>\n",
       "</div>"
      ],
      "text/plain": [
       "                                   PeriodStart  AirTemp  DewpointTemp  \\\n",
       "PeriodStart                                                             \n",
       "2007-01-01T01:00:00Z 2007-01-01 01:00:00+00:00     11.7          10.1   \n",
       "2007-01-01T02:00:00Z 2007-01-01 02:00:00+00:00     12.3          10.4   \n",
       "2007-01-01T03:00:00Z 2007-01-01 03:00:00+00:00     13.9          10.8   \n",
       "2007-01-01T04:00:00Z 2007-01-01 04:00:00+00:00     16.6          11.3   \n",
       "2007-01-01T05:00:00Z 2007-01-01 05:00:00+00:00     19.2          11.8   \n",
       "\n",
       "                      PrecipitableWater  RelativeHumidity  SurfacePressure  \\\n",
       "PeriodStart                                                                  \n",
       "2007-01-01T01:00:00Z               17.3              89.9           1004.0   \n",
       "2007-01-01T02:00:00Z               16.7              88.5           1004.6   \n",
       "2007-01-01T03:00:00Z               16.3              81.7           1005.0   \n",
       "2007-01-01T04:00:00Z               15.9              71.2           1005.1   \n",
       "2007-01-01T05:00:00Z               15.5              62.2           1005.2   \n",
       "\n",
       "                      WindSpeed10m  \n",
       "PeriodStart                         \n",
       "2007-01-01T01:00:00Z           1.7  \n",
       "2007-01-01T02:00:00Z           1.8  \n",
       "2007-01-01T03:00:00Z           2.0  \n",
       "2007-01-01T04:00:00Z           2.2  \n",
       "2007-01-01T05:00:00Z           2.4  "
      ]
     },
     "execution_count": 68,
     "metadata": {},
     "output_type": "execute_result"
    }
   ],
   "source": [
    "df.head()"
   ]
  },
  {
   "cell_type": "code",
   "execution_count": 79,
   "id": "12d9675f",
   "metadata": {
    "id": "12d9675f"
   },
   "outputs": [],
   "source": [
    "cols = list(df)[1:7]"
   ]
  },
  {
   "cell_type": "code",
   "execution_count": 80,
   "id": "53db1e38",
   "metadata": {
    "id": "53db1e38",
    "outputId": "ede7bd03-af51-4d4a-cb26-c564444de880"
   },
   "outputs": [
    {
     "data": {
      "text/plain": [
       "['AirTemp',\n",
       " 'DewpointTemp',\n",
       " 'PrecipitableWater',\n",
       " 'RelativeHumidity',\n",
       " 'SurfacePressure',\n",
       " 'WindSpeed10m']"
      ]
     },
     "execution_count": 80,
     "metadata": {},
     "output_type": "execute_result"
    }
   ],
   "source": [
    "cols"
   ]
  },
  {
   "cell_type": "code",
   "execution_count": 81,
   "id": "e72b478b",
   "metadata": {
    "id": "e72b478b"
   },
   "outputs": [],
   "source": [
    "df_for_training1 = df[cols].astype(float)"
   ]
  },
  {
   "cell_type": "code",
   "execution_count": 82,
   "id": "6890c930",
   "metadata": {
    "id": "6890c930",
    "outputId": "9a31f16f-7d1b-4da0-9902-66a95a767dbf"
   },
   "outputs": [
    {
     "data": {
      "text/html": [
       "<div>\n",
       "<style scoped>\n",
       "    .dataframe tbody tr th:only-of-type {\n",
       "        vertical-align: middle;\n",
       "    }\n",
       "\n",
       "    .dataframe tbody tr th {\n",
       "        vertical-align: top;\n",
       "    }\n",
       "\n",
       "    .dataframe thead th {\n",
       "        text-align: right;\n",
       "    }\n",
       "</style>\n",
       "<table border=\"1\" class=\"dataframe\">\n",
       "  <thead>\n",
       "    <tr style=\"text-align: right;\">\n",
       "      <th></th>\n",
       "      <th>AirTemp</th>\n",
       "      <th>DewpointTemp</th>\n",
       "      <th>PrecipitableWater</th>\n",
       "      <th>RelativeHumidity</th>\n",
       "      <th>SurfacePressure</th>\n",
       "      <th>WindSpeed10m</th>\n",
       "    </tr>\n",
       "    <tr>\n",
       "      <th>PeriodStart</th>\n",
       "      <th></th>\n",
       "      <th></th>\n",
       "      <th></th>\n",
       "      <th></th>\n",
       "      <th></th>\n",
       "      <th></th>\n",
       "    </tr>\n",
       "  </thead>\n",
       "  <tbody>\n",
       "    <tr>\n",
       "      <th>2007-01-01T01:00:00Z</th>\n",
       "      <td>11.7</td>\n",
       "      <td>10.1</td>\n",
       "      <td>17.3</td>\n",
       "      <td>89.9</td>\n",
       "      <td>1004.0</td>\n",
       "      <td>1.7</td>\n",
       "    </tr>\n",
       "    <tr>\n",
       "      <th>2007-01-01T02:00:00Z</th>\n",
       "      <td>12.3</td>\n",
       "      <td>10.4</td>\n",
       "      <td>16.7</td>\n",
       "      <td>88.5</td>\n",
       "      <td>1004.6</td>\n",
       "      <td>1.8</td>\n",
       "    </tr>\n",
       "    <tr>\n",
       "      <th>2007-01-01T03:00:00Z</th>\n",
       "      <td>13.9</td>\n",
       "      <td>10.8</td>\n",
       "      <td>16.3</td>\n",
       "      <td>81.7</td>\n",
       "      <td>1005.0</td>\n",
       "      <td>2.0</td>\n",
       "    </tr>\n",
       "    <tr>\n",
       "      <th>2007-01-01T04:00:00Z</th>\n",
       "      <td>16.6</td>\n",
       "      <td>11.3</td>\n",
       "      <td>15.9</td>\n",
       "      <td>71.2</td>\n",
       "      <td>1005.1</td>\n",
       "      <td>2.2</td>\n",
       "    </tr>\n",
       "    <tr>\n",
       "      <th>2007-01-01T05:00:00Z</th>\n",
       "      <td>19.2</td>\n",
       "      <td>11.8</td>\n",
       "      <td>15.5</td>\n",
       "      <td>62.2</td>\n",
       "      <td>1005.2</td>\n",
       "      <td>2.4</td>\n",
       "    </tr>\n",
       "    <tr>\n",
       "      <th>...</th>\n",
       "      <td>...</td>\n",
       "      <td>...</td>\n",
       "      <td>...</td>\n",
       "      <td>...</td>\n",
       "      <td>...</td>\n",
       "      <td>...</td>\n",
       "    </tr>\n",
       "    <tr>\n",
       "      <th>2022-08-31T18:00:00Z</th>\n",
       "      <td>29.6</td>\n",
       "      <td>23.0</td>\n",
       "      <td>66.2</td>\n",
       "      <td>67.9</td>\n",
       "      <td>990.2</td>\n",
       "      <td>2.4</td>\n",
       "    </tr>\n",
       "    <tr>\n",
       "      <th>2022-08-31T19:00:00Z</th>\n",
       "      <td>29.0</td>\n",
       "      <td>23.3</td>\n",
       "      <td>67.4</td>\n",
       "      <td>71.3</td>\n",
       "      <td>990.0</td>\n",
       "      <td>2.4</td>\n",
       "    </tr>\n",
       "    <tr>\n",
       "      <th>2022-08-31T20:00:00Z</th>\n",
       "      <td>28.6</td>\n",
       "      <td>23.4</td>\n",
       "      <td>68.2</td>\n",
       "      <td>73.6</td>\n",
       "      <td>989.7</td>\n",
       "      <td>2.1</td>\n",
       "    </tr>\n",
       "    <tr>\n",
       "      <th>2022-08-31T21:00:00Z</th>\n",
       "      <td>28.4</td>\n",
       "      <td>23.5</td>\n",
       "      <td>68.5</td>\n",
       "      <td>75.2</td>\n",
       "      <td>989.4</td>\n",
       "      <td>1.7</td>\n",
       "    </tr>\n",
       "    <tr>\n",
       "      <th>2022-08-31T22:00:00Z</th>\n",
       "      <td>28.1</td>\n",
       "      <td>23.6</td>\n",
       "      <td>68.0</td>\n",
       "      <td>76.8</td>\n",
       "      <td>989.4</td>\n",
       "      <td>1.4</td>\n",
       "    </tr>\n",
       "  </tbody>\n",
       "</table>\n",
       "<p>137326 rows × 6 columns</p>\n",
       "</div>"
      ],
      "text/plain": [
       "                      AirTemp  DewpointTemp  PrecipitableWater  \\\n",
       "PeriodStart                                                      \n",
       "2007-01-01T01:00:00Z     11.7          10.1               17.3   \n",
       "2007-01-01T02:00:00Z     12.3          10.4               16.7   \n",
       "2007-01-01T03:00:00Z     13.9          10.8               16.3   \n",
       "2007-01-01T04:00:00Z     16.6          11.3               15.9   \n",
       "2007-01-01T05:00:00Z     19.2          11.8               15.5   \n",
       "...                       ...           ...                ...   \n",
       "2022-08-31T18:00:00Z     29.6          23.0               66.2   \n",
       "2022-08-31T19:00:00Z     29.0          23.3               67.4   \n",
       "2022-08-31T20:00:00Z     28.6          23.4               68.2   \n",
       "2022-08-31T21:00:00Z     28.4          23.5               68.5   \n",
       "2022-08-31T22:00:00Z     28.1          23.6               68.0   \n",
       "\n",
       "                      RelativeHumidity  SurfacePressure  WindSpeed10m  \n",
       "PeriodStart                                                            \n",
       "2007-01-01T01:00:00Z              89.9           1004.0           1.7  \n",
       "2007-01-01T02:00:00Z              88.5           1004.6           1.8  \n",
       "2007-01-01T03:00:00Z              81.7           1005.0           2.0  \n",
       "2007-01-01T04:00:00Z              71.2           1005.1           2.2  \n",
       "2007-01-01T05:00:00Z              62.2           1005.2           2.4  \n",
       "...                                ...              ...           ...  \n",
       "2022-08-31T18:00:00Z              67.9            990.2           2.4  \n",
       "2022-08-31T19:00:00Z              71.3            990.0           2.4  \n",
       "2022-08-31T20:00:00Z              73.6            989.7           2.1  \n",
       "2022-08-31T21:00:00Z              75.2            989.4           1.7  \n",
       "2022-08-31T22:00:00Z              76.8            989.4           1.4  \n",
       "\n",
       "[137326 rows x 6 columns]"
      ]
     },
     "execution_count": 82,
     "metadata": {},
     "output_type": "execute_result"
    }
   ],
   "source": [
    "df_for_training1"
   ]
  },
  {
   "cell_type": "code",
   "execution_count": null,
   "id": "5f9dfb21",
   "metadata": {
    "id": "5f9dfb21",
    "outputId": "5eb327c2-295c-444e-9625-0cd052966c79"
   },
   "outputs": [
    {
     "data": {
      "text/plain": [
       "<AxesSubplot:xlabel='PeriodStart'>"
      ]
     },
     "execution_count": 75,
     "metadata": {},
     "output_type": "execute_result"
    },
    {
     "data": {
      "image/png": "[encoded data removed]",
      "text/plain": [
       "<Figure size 432x288 with 1 Axes>"
      ]
     },
     "metadata": {
      "needs_background": "light"
     },
     "output_type": "display_data"
    }
   ],
   "source": [
    "df_for_plot=df_for_training.tail(5000)\n",
    "df_for_plot.plot.line()"
   ]
  },
  {
   "cell_type": "code",
   "execution_count": 83,
   "id": "31ccd739",
   "metadata": {
    "id": "31ccd739"
   },
   "outputs": [],
   "source": [
    "scaler1 = StandardScaler()\n",
    "scaler1 = scaler.fit(df_for_training)\n",
    "df_for_training_scaled1 = scaler.transform(df_for_training)"
   ]
  },
  {
   "cell_type": "code",
   "execution_count": 84,
   "id": "6aba1232",
   "metadata": {
    "id": "6aba1232",
    "outputId": "939949fc-8766-4f47-c7a4-467960dc41d3"
   },
   "outputs": [
    {
     "data": {
      "text/plain": [
       "(137326, 6)"
      ]
     },
     "execution_count": 84,
     "metadata": {},
     "output_type": "execute_result"
    }
   ],
   "source": [
    "df_for_training_scaled1.shape"
   ]
  },
  {
   "cell_type": "code",
   "execution_count": 85,
   "id": "2487cc0a",
   "metadata": {
    "id": "2487cc0a"
   },
   "outputs": [],
   "source": [
    "trainX = []\n",
    "trainY = []\n",
    "\n",
    "n_future = 1   # Number of days we want to look into the future based on the past days.\n",
    "n_past = 24  # Number of past days we want to use to predict the future.\n",
    "\n",
    "#Reformat input data into a shape: (n_samples x timesteps x n_features)\n",
    "#In my example, my df_for_training_scaled has a shape (12823, 5)\n",
    "#12823 refers to the number of data points and 5 refers to the columns (multi-variables).\n",
    "for i in range(n_past, len(df_for_training_scaled) - n_future +1):\n",
    "    trainX.append(df_for_training_scaled[i - n_past:i, 0:df_for_training.shape[1]])\n",
    "    trainY.append(df_for_training_scaled[i + n_future - 1:i + n_future, -1])\n",
    "\n",
    "trainX, trainY = np.array(trainX), np.array(trainY)"
   ]
  },
  {
   "cell_type": "code",
   "execution_count": 86,
   "id": "7085c980",
   "metadata": {
    "id": "7085c980",
    "outputId": "ece0bb1e-e2b4-4af0-be0f-6aaec1e2c9b3"
   },
   "outputs": [
    {
     "data": {
      "text/plain": [
       "(137302, 24, 6)"
      ]
     },
     "execution_count": 86,
     "metadata": {},
     "output_type": "execute_result"
    }
   ],
   "source": [
    "trainX.shape"
   ]
  },
  {
   "cell_type": "code",
   "execution_count": 87,
   "id": "2f11ce2b",
   "metadata": {
    "id": "2f11ce2b",
    "outputId": "da019059-052f-4fce-dbd6-ed9c2b12b8d5"
   },
   "outputs": [
    {
     "data": {
      "text/plain": [
       "(137302, 1)"
      ]
     },
     "execution_count": 87,
     "metadata": {},
     "output_type": "execute_result"
    }
   ],
   "source": [
    "trainY.shape"
   ]
  },
  {
   "cell_type": "code",
   "execution_count": null,
   "id": "9b421b29",
   "metadata": {
    "id": "9b421b29"
   },
   "outputs": [],
   "source": [
    "trainx_new =trainX[:100000]"
   ]
  },
  {
   "cell_type": "code",
   "execution_count": null,
   "id": "430d84b6",
   "metadata": {
    "id": "430d84b6"
   },
   "outputs": [],
   "source": [
    "trianY_new =trainY[:100000]"
   ]
  },
  {
   "cell_type": "code",
   "execution_count": null,
   "id": "94261769",
   "metadata": {
    "id": "94261769",
    "outputId": "37ebb812-a3cc-4aa2-a4dc-fcae9b53e1a6"
   },
   "outputs": [
    {
     "data": {
      "text/plain": [
       "(100000, 24, 6)"
      ]
     },
     "execution_count": 102,
     "metadata": {},
     "output_type": "execute_result"
    }
   ],
   "source": [
    "trainx_new.shape"
   ]
  },
  {
   "cell_type": "code",
   "execution_count": null,
   "id": "8d42973a",
   "metadata": {
    "id": "8d42973a",
    "outputId": "ffe0d937-98e8-4d24-e113-392383b02bd0"
   },
   "outputs": [
    {
     "data": {
      "text/plain": [
       "(100000, 1)"
      ]
     },
     "execution_count": 103,
     "metadata": {},
     "output_type": "execute_result"
    }
   ],
   "source": [
    "trianY_new.shape"
   ]
  },
  {
   "cell_type": "code",
   "execution_count": 97,
   "id": "5f3122e0",
   "metadata": {
    "id": "5f3122e0",
    "outputId": "1cc30382-655f-4878-b8f3-00ce45e32787"
   },
   "outputs": [
    {
     "name": "stdout",
     "output_type": "stream",
     "text": [
      "Model: \"sequential_5\"\n",
      "_________________________________________________________________\n",
      " Layer (type)                Output Shape              Param #   \n",
      "=================================================================\n",
      " lstm_6 (LSTM)               (None, 24, 64)            18176     \n",
      "                                                                 \n",
      " lstm_7 (LSTM)               (None, 32)                12416     \n",
      "                                                                 \n",
      " dropout_3 (Dropout)         (None, 32)                0         \n",
      "                                                                 \n",
      " dense_3 (Dense)             (None, 1)                 33        \n",
      "                                                                 \n",
      "=================================================================\n",
      "Total params: 30,625\n",
      "Trainable params: 30,625\n",
      "Non-trainable params: 0\n",
      "_________________________________________________________________\n"
     ]
    }
   ],
   "source": [
    "model = Sequential()\n",
    "model.add(LSTM(64, activation='relu', input_shape=(trainX.shape[1], trainX.shape[2]), return_sequences=True))\n",
    "model.add(LSTM(32, activation='relu', return_sequences=False))\n",
    "model.add(Dropout(0.2))\n",
    "model.add(Dense(trainY.shape[1]))\n",
    "\n",
    "model.compile(optimizer='adam', loss='mse')\n",
    "model.summary()"
   ]
  },
  {
   "cell_type": "code",
   "execution_count": 98,
   "id": "f7fdd47c",
   "metadata": {
    "id": "f7fdd47c",
    "outputId": "1d780df9-0b07-44b7-8cac-94736fb6ffc9"
   },
   "outputs": [
    {
     "name": "stdout",
     "output_type": "stream",
     "text": [
      "Epoch 1/2\n",
      "7724/7724 [==============================] - 99s 13ms/step - loss: 0.0679 - val_loss: 0.0775\n",
      "Epoch 2/2\n",
      "7724/7724 [==============================] - 69s 9ms/step - loss: 0.0442 - val_loss: 0.0705\n"
     ]
    }
   ],
   "source": [
    "history = model.fit(trainX,trainY, epochs=2, batch_size=16, validation_split=0.1, verbose=1)"
   ]
  },
  {
   "cell_type": "code",
   "execution_count": null,
   "id": "9f32d196",
   "metadata": {
    "id": "9f32d196",
    "outputId": "3f5e0113-4cc4-4110-9967-59b7babcd5ae"
   },
   "outputs": [
    {
     "data": {
      "text/plain": [
       "<matplotlib.legend.Legend at 0x1283a84d520>"
      ]
     },
     "execution_count": 107,
     "metadata": {},
     "output_type": "execute_result"
    },
    {
     "data": {
      "image/png": "[encoded data removed]",
      "text/plain": [
       "<Figure size 432x288 with 1 Axes>"
      ]
     },
     "metadata": {
      "needs_background": "light"
     },
     "output_type": "display_data"
    }
   ],
   "source": [
    "plt.plot(history.history['loss'], label='Training loss')\n",
    "plt.plot(history.history['val_loss'], label='Validation loss')\n",
    "plt.legend()"
   ]
  },
  {
   "cell_type": "code",
   "execution_count": 99,
   "id": "7d1b8589",
   "metadata": {
    "id": "7d1b8589",
    "outputId": "4dbf02d4-cfa4-4572-e74c-4d097b526fc2"
   },
   "outputs": [
    {
     "name": "stdout",
     "output_type": "stream",
     "text": [
      "4291/4291 [==============================] - 13s 3ms/step\n"
     ]
    }
   ],
   "source": [
    "trainPredict = model.predict(trainX)"
   ]
  },
  {
   "cell_type": "code",
   "execution_count": 96,
   "id": "59d763f0",
   "metadata": {
    "id": "59d763f0",
    "outputId": "36de2129-aaa3-4e5c-d4b9-61cca345a16d"
   },
   "outputs": [
    {
     "data": {
      "text/plain": [
       "array([[ 0.75073904],\n",
       "       [ 1.1067175 ],\n",
       "       [ 1.32030457],\n",
       "       ...,\n",
       "       [-0.38839203],\n",
       "       [-0.67317479],\n",
       "       [-0.88676187]])"
      ]
     },
     "execution_count": 96,
     "metadata": {},
     "output_type": "execute_result"
    }
   ],
   "source": [
    "trainY"
   ]
  },
  {
   "cell_type": "code",
   "execution_count": 100,
   "id": "b0169886",
   "metadata": {
    "id": "b0169886"
   },
   "outputs": [],
   "source": [
    "from sklearn.metrics import mean_squared_error\n",
    "trainScore = np.sqrt(mean_squared_error(trainY, trainPredict))"
   ]
  },
  {
   "cell_type": "code",
   "execution_count": 101,
   "id": "66cbe05f",
   "metadata": {
    "id": "66cbe05f",
    "outputId": "7c425ed0-b36a-4099-939f-9e8e3aaaef38"
   },
   "outputs": [
    {
     "data": {
      "text/plain": [
       "0.1628851331648814"
      ]
     },
     "execution_count": 101,
     "metadata": {},
     "output_type": "execute_result"
    }
   ],
   "source": [
    "trainScore"
   ]
  },
  {
   "cell_type": "code",
   "execution_count": null,
   "id": "907411f8",
   "metadata": {
    "id": "907411f8"
   },
   "outputs": [],
   "source": [
    "testx =trainX[100000:]"
   ]
  },
  {
   "cell_type": "code",
   "execution_count": null,
   "id": "b2d46a7b",
   "metadata": {
    "id": "b2d46a7b"
   },
   "outputs": [],
   "source": [
    "testy =trainY[100000:]"
   ]
  },
  {
   "cell_type": "code",
   "execution_count": null,
   "id": "c6c10889",
   "metadata": {
    "id": "c6c10889",
    "outputId": "72ad66ce-7ee6-41f1-8a1d-28ab769f99cb"
   },
   "outputs": [
    {
     "data": {
      "text/plain": [
       "array([[ 0.26533059],\n",
       "       [ 0.41156849],\n",
       "       [ 0.48468744],\n",
       "       ...,\n",
       "       [-0.02714521],\n",
       "       [-0.17338312],\n",
       "       [-0.17338312]])"
      ]
     },
     "execution_count": 119,
     "metadata": {},
     "output_type": "execute_result"
    }
   ],
   "source": [
    "testy"
   ]
  },
  {
   "cell_type": "code",
   "execution_count": null,
   "id": "fddb241d",
   "metadata": {
    "id": "fddb241d",
    "outputId": "97e72592-01f8-427e-e825-dd34c0dc6f4b"
   },
   "outputs": [
    {
     "name": "stdout",
     "output_type": "stream",
     "text": [
      "1165/1165 [==============================] - 5s 4ms/step\n"
     ]
    }
   ],
   "source": [
    "testPredict = model.predict(testx)"
   ]
  },
  {
   "cell_type": "code",
   "execution_count": null,
   "id": "eae01648",
   "metadata": {
    "id": "eae01648",
    "outputId": "ee0a14cf-4578-434c-cb10-6e912c293179"
   },
   "outputs": [
    {
     "data": {
      "text/plain": [
       "array([[ 0.15939128],\n",
       "       [ 0.46593937],\n",
       "       [ 0.4653367 ],\n",
       "       ...,\n",
       "       [-0.09503485],\n",
       "       [-0.17112952],\n",
       "       [-0.38013563]], dtype=float32)"
      ]
     },
     "execution_count": 121,
     "metadata": {},
     "output_type": "execute_result"
    }
   ],
   "source": [
    "testPredict"
   ]
  },
  {
   "cell_type": "code",
   "execution_count": null,
   "id": "06ffbbd5",
   "metadata": {
    "id": "06ffbbd5"
   },
   "outputs": [],
   "source": [
    "trainScore = np.sqrt(mean_squared_error(testy, testPredict))"
   ]
  },
  {
   "cell_type": "code",
   "execution_count": null,
   "id": "e0afa39a",
   "metadata": {
    "id": "e0afa39a",
    "outputId": "da842032-07dd-4aa9-d69c-322300b1f2a9"
   },
   "outputs": [
    {
     "data": {
      "text/plain": [
       "0.2882193640731349"
      ]
     },
     "execution_count": 123,
     "metadata": {},
     "output_type": "execute_result"
    }
   ],
   "source": [
    "trainScore"
   ]
  },
  {
   "cell_type": "markdown",
   "id": "97353b7a",
   "metadata": {
    "id": "97353b7a"
   },
   "source": [
    "# Ahmedabad Data"
   ]
  },
  {
   "cell_type": "code",
   "execution_count": null,
   "id": "778a13d8",
   "metadata": {
    "id": "778a13d8"
   },
   "outputs": [],
   "source": [
    "df1 =pd.read_csv(\"Ahmedabad.csv\")"
   ]
  },
  {
   "cell_type": "code",
   "execution_count": null,
   "id": "75c50061",
   "metadata": {
    "id": "75c50061"
   },
   "outputs": [],
   "source": [
    "df1.drop(columns =['PeriodEnd','Period','GtiFixedTilt','GtiTracking','Dhi','Ghi','Azimuth','Zenith','Dni','Ebh','SnowWater','WindDirection10m','AlbedoDaily'],axis =1,inplace =True)"
   ]
  },
  {
   "cell_type": "code",
   "execution_count": null,
   "id": "4ef6f748",
   "metadata": {
    "id": "4ef6f748"
   },
   "outputs": [],
   "source": [
    "df1.drop(\"CloudOpacity\",axis=1,inplace =True)"
   ]
  },
  {
   "cell_type": "code",
   "execution_count": null,
   "id": "9847f8bd",
   "metadata": {
    "id": "9847f8bd"
   },
   "outputs": [],
   "source": [
    "df1['PeriodStart'] =pd.to_datetime(df.PeriodStart)"
   ]
  },
  {
   "cell_type": "code",
   "execution_count": null,
   "id": "d3081424",
   "metadata": {
    "id": "d3081424",
    "outputId": "31acba38-24c3-410d-bee2-6256c740de99"
   },
   "outputs": [
    {
     "data": {
      "text/plain": [
       "PeriodStart          datetime64[ns, UTC]\n",
       "AirTemp                          float64\n",
       "DewpointTemp                     float64\n",
       "PrecipitableWater                float64\n",
       "RelativeHumidity                 float64\n",
       "SurfacePressure                  float64\n",
       "WindSpeed10m                     float64\n",
       "dtype: object"
      ]
     },
     "execution_count": 159,
     "metadata": {},
     "output_type": "execute_result"
    }
   ],
   "source": [
    "df1.dtypes"
   ]
  },
  {
   "cell_type": "code",
   "execution_count": null,
   "id": "1a515b36",
   "metadata": {
    "id": "1a515b36"
   },
   "outputs": [],
   "source": [
    "df1.set_index(df1['PeriodStart'], drop=False, append=False, inplace=True, verify_integrity=False)"
   ]
  },
  {
   "cell_type": "code",
   "execution_count": null,
   "id": "ae6fa74d",
   "metadata": {
    "id": "ae6fa74d",
    "outputId": "15e7aefe-329f-40fd-f391-b133ffb5be9f"
   },
   "outputs": [
    {
     "data": {
      "text/html": [
       "<div>\n",
       "<style scoped>\n",
       "    .dataframe tbody tr th:only-of-type {\n",
       "        vertical-align: middle;\n",
       "    }\n",
       "\n",
       "    .dataframe tbody tr th {\n",
       "        vertical-align: top;\n",
       "    }\n",
       "\n",
       "    .dataframe thead th {\n",
       "        text-align: right;\n",
       "    }\n",
       "</style>\n",
       "<table border=\"1\" class=\"dataframe\">\n",
       "  <thead>\n",
       "    <tr style=\"text-align: right;\">\n",
       "      <th></th>\n",
       "      <th>PeriodStart</th>\n",
       "      <th>AirTemp</th>\n",
       "      <th>DewpointTemp</th>\n",
       "      <th>PrecipitableWater</th>\n",
       "      <th>RelativeHumidity</th>\n",
       "      <th>SurfacePressure</th>\n",
       "      <th>WindSpeed10m</th>\n",
       "    </tr>\n",
       "    <tr>\n",
       "      <th>PeriodStart</th>\n",
       "      <th></th>\n",
       "      <th></th>\n",
       "      <th></th>\n",
       "      <th></th>\n",
       "      <th></th>\n",
       "      <th></th>\n",
       "      <th></th>\n",
       "    </tr>\n",
       "  </thead>\n",
       "  <tbody>\n",
       "    <tr>\n",
       "      <th>2007-01-01 01:00:00+00:00</th>\n",
       "      <td>2007-01-01 01:00:00+00:00</td>\n",
       "      <td>11.7</td>\n",
       "      <td>10.1</td>\n",
       "      <td>17.3</td>\n",
       "      <td>89.9</td>\n",
       "      <td>1004.0</td>\n",
       "      <td>1.7</td>\n",
       "    </tr>\n",
       "    <tr>\n",
       "      <th>2007-01-01 02:00:00+00:00</th>\n",
       "      <td>2007-01-01 02:00:00+00:00</td>\n",
       "      <td>12.3</td>\n",
       "      <td>10.4</td>\n",
       "      <td>16.7</td>\n",
       "      <td>88.5</td>\n",
       "      <td>1004.6</td>\n",
       "      <td>1.8</td>\n",
       "    </tr>\n",
       "    <tr>\n",
       "      <th>2007-01-01 03:00:00+00:00</th>\n",
       "      <td>2007-01-01 03:00:00+00:00</td>\n",
       "      <td>13.9</td>\n",
       "      <td>10.8</td>\n",
       "      <td>16.3</td>\n",
       "      <td>81.7</td>\n",
       "      <td>1005.0</td>\n",
       "      <td>2.0</td>\n",
       "    </tr>\n",
       "    <tr>\n",
       "      <th>2007-01-01 04:00:00+00:00</th>\n",
       "      <td>2007-01-01 04:00:00+00:00</td>\n",
       "      <td>16.6</td>\n",
       "      <td>11.3</td>\n",
       "      <td>15.9</td>\n",
       "      <td>71.2</td>\n",
       "      <td>1005.1</td>\n",
       "      <td>2.2</td>\n",
       "    </tr>\n",
       "    <tr>\n",
       "      <th>2007-01-01 05:00:00+00:00</th>\n",
       "      <td>2007-01-01 05:00:00+00:00</td>\n",
       "      <td>19.2</td>\n",
       "      <td>11.8</td>\n",
       "      <td>15.5</td>\n",
       "      <td>62.2</td>\n",
       "      <td>1005.2</td>\n",
       "      <td>2.4</td>\n",
       "    </tr>\n",
       "    <tr>\n",
       "      <th>...</th>\n",
       "      <td>...</td>\n",
       "      <td>...</td>\n",
       "      <td>...</td>\n",
       "      <td>...</td>\n",
       "      <td>...</td>\n",
       "      <td>...</td>\n",
       "      <td>...</td>\n",
       "    </tr>\n",
       "    <tr>\n",
       "      <th>2022-08-31 18:00:00+00:00</th>\n",
       "      <td>2022-08-31 18:00:00+00:00</td>\n",
       "      <td>29.6</td>\n",
       "      <td>23.0</td>\n",
       "      <td>66.2</td>\n",
       "      <td>67.9</td>\n",
       "      <td>990.2</td>\n",
       "      <td>2.4</td>\n",
       "    </tr>\n",
       "    <tr>\n",
       "      <th>2022-08-31 19:00:00+00:00</th>\n",
       "      <td>2022-08-31 19:00:00+00:00</td>\n",
       "      <td>29.0</td>\n",
       "      <td>23.3</td>\n",
       "      <td>67.4</td>\n",
       "      <td>71.3</td>\n",
       "      <td>990.0</td>\n",
       "      <td>2.4</td>\n",
       "    </tr>\n",
       "    <tr>\n",
       "      <th>2022-08-31 20:00:00+00:00</th>\n",
       "      <td>2022-08-31 20:00:00+00:00</td>\n",
       "      <td>28.6</td>\n",
       "      <td>23.4</td>\n",
       "      <td>68.2</td>\n",
       "      <td>73.6</td>\n",
       "      <td>989.7</td>\n",
       "      <td>2.1</td>\n",
       "    </tr>\n",
       "    <tr>\n",
       "      <th>2022-08-31 21:00:00+00:00</th>\n",
       "      <td>2022-08-31 21:00:00+00:00</td>\n",
       "      <td>28.4</td>\n",
       "      <td>23.5</td>\n",
       "      <td>68.5</td>\n",
       "      <td>75.2</td>\n",
       "      <td>989.4</td>\n",
       "      <td>1.7</td>\n",
       "    </tr>\n",
       "    <tr>\n",
       "      <th>2022-08-31 22:00:00+00:00</th>\n",
       "      <td>2022-08-31 22:00:00+00:00</td>\n",
       "      <td>28.1</td>\n",
       "      <td>23.6</td>\n",
       "      <td>68.0</td>\n",
       "      <td>76.8</td>\n",
       "      <td>989.4</td>\n",
       "      <td>1.4</td>\n",
       "    </tr>\n",
       "  </tbody>\n",
       "</table>\n",
       "<p>137326 rows × 7 columns</p>\n",
       "</div>"
      ],
      "text/plain": [
       "                                        PeriodStart  AirTemp  DewpointTemp  \\\n",
       "PeriodStart                                                                  \n",
       "2007-01-01 01:00:00+00:00 2007-01-01 01:00:00+00:00     11.7          10.1   \n",
       "2007-01-01 02:00:00+00:00 2007-01-01 02:00:00+00:00     12.3          10.4   \n",
       "2007-01-01 03:00:00+00:00 2007-01-01 03:00:00+00:00     13.9          10.8   \n",
       "2007-01-01 04:00:00+00:00 2007-01-01 04:00:00+00:00     16.6          11.3   \n",
       "2007-01-01 05:00:00+00:00 2007-01-01 05:00:00+00:00     19.2          11.8   \n",
       "...                                             ...      ...           ...   \n",
       "2022-08-31 18:00:00+00:00 2022-08-31 18:00:00+00:00     29.6          23.0   \n",
       "2022-08-31 19:00:00+00:00 2022-08-31 19:00:00+00:00     29.0          23.3   \n",
       "2022-08-31 20:00:00+00:00 2022-08-31 20:00:00+00:00     28.6          23.4   \n",
       "2022-08-31 21:00:00+00:00 2022-08-31 21:00:00+00:00     28.4          23.5   \n",
       "2022-08-31 22:00:00+00:00 2022-08-31 22:00:00+00:00     28.1          23.6   \n",
       "\n",
       "                           PrecipitableWater  RelativeHumidity  \\\n",
       "PeriodStart                                                      \n",
       "2007-01-01 01:00:00+00:00               17.3              89.9   \n",
       "2007-01-01 02:00:00+00:00               16.7              88.5   \n",
       "2007-01-01 03:00:00+00:00               16.3              81.7   \n",
       "2007-01-01 04:00:00+00:00               15.9              71.2   \n",
       "2007-01-01 05:00:00+00:00               15.5              62.2   \n",
       "...                                      ...               ...   \n",
       "2022-08-31 18:00:00+00:00               66.2              67.9   \n",
       "2022-08-31 19:00:00+00:00               67.4              71.3   \n",
       "2022-08-31 20:00:00+00:00               68.2              73.6   \n",
       "2022-08-31 21:00:00+00:00               68.5              75.2   \n",
       "2022-08-31 22:00:00+00:00               68.0              76.8   \n",
       "\n",
       "                           SurfacePressure  WindSpeed10m  \n",
       "PeriodStart                                               \n",
       "2007-01-01 01:00:00+00:00           1004.0           1.7  \n",
       "2007-01-01 02:00:00+00:00           1004.6           1.8  \n",
       "2007-01-01 03:00:00+00:00           1005.0           2.0  \n",
       "2007-01-01 04:00:00+00:00           1005.1           2.2  \n",
       "2007-01-01 05:00:00+00:00           1005.2           2.4  \n",
       "...                                    ...           ...  \n",
       "2022-08-31 18:00:00+00:00            990.2           2.4  \n",
       "2022-08-31 19:00:00+00:00            990.0           2.4  \n",
       "2022-08-31 20:00:00+00:00            989.7           2.1  \n",
       "2022-08-31 21:00:00+00:00            989.4           1.7  \n",
       "2022-08-31 22:00:00+00:00            989.4           1.4  \n",
       "\n",
       "[137326 rows x 7 columns]"
      ]
     },
     "execution_count": 161,
     "metadata": {},
     "output_type": "execute_result"
    }
   ],
   "source": [
    "df"
   ]
  },
  {
   "cell_type": "code",
   "execution_count": null,
   "id": "057fecd9",
   "metadata": {
    "id": "057fecd9"
   },
   "outputs": [],
   "source": [
    "cols = list(df)[1:7]"
   ]
  },
  {
   "cell_type": "code",
   "execution_count": null,
   "id": "da9841ae",
   "metadata": {
    "id": "da9841ae"
   },
   "outputs": [],
   "source": [
    "df_for_training1 = df[cols].astype(float)"
   ]
  },
  {
   "cell_type": "code",
   "execution_count": null,
   "id": "21ae50a5",
   "metadata": {
    "id": "21ae50a5",
    "outputId": "52bda9fe-d120-4864-dd7c-bd92515c939d"
   },
   "outputs": [
    {
     "data": {
      "text/html": [
       "<div>\n",
       "<style scoped>\n",
       "    .dataframe tbody tr th:only-of-type {\n",
       "        vertical-align: middle;\n",
       "    }\n",
       "\n",
       "    .dataframe tbody tr th {\n",
       "        vertical-align: top;\n",
       "    }\n",
       "\n",
       "    .dataframe thead th {\n",
       "        text-align: right;\n",
       "    }\n",
       "</style>\n",
       "<table border=\"1\" class=\"dataframe\">\n",
       "  <thead>\n",
       "    <tr style=\"text-align: right;\">\n",
       "      <th></th>\n",
       "      <th>AirTemp</th>\n",
       "      <th>DewpointTemp</th>\n",
       "      <th>PrecipitableWater</th>\n",
       "      <th>RelativeHumidity</th>\n",
       "      <th>SurfacePressure</th>\n",
       "      <th>WindSpeed10m</th>\n",
       "    </tr>\n",
       "    <tr>\n",
       "      <th>PeriodStart</th>\n",
       "      <th></th>\n",
       "      <th></th>\n",
       "      <th></th>\n",
       "      <th></th>\n",
       "      <th></th>\n",
       "      <th></th>\n",
       "    </tr>\n",
       "  </thead>\n",
       "  <tbody>\n",
       "    <tr>\n",
       "      <th>2007-01-01 01:00:00+00:00</th>\n",
       "      <td>11.7</td>\n",
       "      <td>10.1</td>\n",
       "      <td>17.3</td>\n",
       "      <td>89.9</td>\n",
       "      <td>1004.0</td>\n",
       "      <td>1.7</td>\n",
       "    </tr>\n",
       "    <tr>\n",
       "      <th>2007-01-01 02:00:00+00:00</th>\n",
       "      <td>12.3</td>\n",
       "      <td>10.4</td>\n",
       "      <td>16.7</td>\n",
       "      <td>88.5</td>\n",
       "      <td>1004.6</td>\n",
       "      <td>1.8</td>\n",
       "    </tr>\n",
       "    <tr>\n",
       "      <th>2007-01-01 03:00:00+00:00</th>\n",
       "      <td>13.9</td>\n",
       "      <td>10.8</td>\n",
       "      <td>16.3</td>\n",
       "      <td>81.7</td>\n",
       "      <td>1005.0</td>\n",
       "      <td>2.0</td>\n",
       "    </tr>\n",
       "    <tr>\n",
       "      <th>2007-01-01 04:00:00+00:00</th>\n",
       "      <td>16.6</td>\n",
       "      <td>11.3</td>\n",
       "      <td>15.9</td>\n",
       "      <td>71.2</td>\n",
       "      <td>1005.1</td>\n",
       "      <td>2.2</td>\n",
       "    </tr>\n",
       "    <tr>\n",
       "      <th>2007-01-01 05:00:00+00:00</th>\n",
       "      <td>19.2</td>\n",
       "      <td>11.8</td>\n",
       "      <td>15.5</td>\n",
       "      <td>62.2</td>\n",
       "      <td>1005.2</td>\n",
       "      <td>2.4</td>\n",
       "    </tr>\n",
       "    <tr>\n",
       "      <th>...</th>\n",
       "      <td>...</td>\n",
       "      <td>...</td>\n",
       "      <td>...</td>\n",
       "      <td>...</td>\n",
       "      <td>...</td>\n",
       "      <td>...</td>\n",
       "    </tr>\n",
       "    <tr>\n",
       "      <th>2022-08-31 18:00:00+00:00</th>\n",
       "      <td>29.6</td>\n",
       "      <td>23.0</td>\n",
       "      <td>66.2</td>\n",
       "      <td>67.9</td>\n",
       "      <td>990.2</td>\n",
       "      <td>2.4</td>\n",
       "    </tr>\n",
       "    <tr>\n",
       "      <th>2022-08-31 19:00:00+00:00</th>\n",
       "      <td>29.0</td>\n",
       "      <td>23.3</td>\n",
       "      <td>67.4</td>\n",
       "      <td>71.3</td>\n",
       "      <td>990.0</td>\n",
       "      <td>2.4</td>\n",
       "    </tr>\n",
       "    <tr>\n",
       "      <th>2022-08-31 20:00:00+00:00</th>\n",
       "      <td>28.6</td>\n",
       "      <td>23.4</td>\n",
       "      <td>68.2</td>\n",
       "      <td>73.6</td>\n",
       "      <td>989.7</td>\n",
       "      <td>2.1</td>\n",
       "    </tr>\n",
       "    <tr>\n",
       "      <th>2022-08-31 21:00:00+00:00</th>\n",
       "      <td>28.4</td>\n",
       "      <td>23.5</td>\n",
       "      <td>68.5</td>\n",
       "      <td>75.2</td>\n",
       "      <td>989.4</td>\n",
       "      <td>1.7</td>\n",
       "    </tr>\n",
       "    <tr>\n",
       "      <th>2022-08-31 22:00:00+00:00</th>\n",
       "      <td>28.1</td>\n",
       "      <td>23.6</td>\n",
       "      <td>68.0</td>\n",
       "      <td>76.8</td>\n",
       "      <td>989.4</td>\n",
       "      <td>1.4</td>\n",
       "    </tr>\n",
       "  </tbody>\n",
       "</table>\n",
       "<p>137326 rows × 6 columns</p>\n",
       "</div>"
      ],
      "text/plain": [
       "                           AirTemp  DewpointTemp  PrecipitableWater  \\\n",
       "PeriodStart                                                           \n",
       "2007-01-01 01:00:00+00:00     11.7          10.1               17.3   \n",
       "2007-01-01 02:00:00+00:00     12.3          10.4               16.7   \n",
       "2007-01-01 03:00:00+00:00     13.9          10.8               16.3   \n",
       "2007-01-01 04:00:00+00:00     16.6          11.3               15.9   \n",
       "2007-01-01 05:00:00+00:00     19.2          11.8               15.5   \n",
       "...                            ...           ...                ...   \n",
       "2022-08-31 18:00:00+00:00     29.6          23.0               66.2   \n",
       "2022-08-31 19:00:00+00:00     29.0          23.3               67.4   \n",
       "2022-08-31 20:00:00+00:00     28.6          23.4               68.2   \n",
       "2022-08-31 21:00:00+00:00     28.4          23.5               68.5   \n",
       "2022-08-31 22:00:00+00:00     28.1          23.6               68.0   \n",
       "\n",
       "                           RelativeHumidity  SurfacePressure  WindSpeed10m  \n",
       "PeriodStart                                                                 \n",
       "2007-01-01 01:00:00+00:00              89.9           1004.0           1.7  \n",
       "2007-01-01 02:00:00+00:00              88.5           1004.6           1.8  \n",
       "2007-01-01 03:00:00+00:00              81.7           1005.0           2.0  \n",
       "2007-01-01 04:00:00+00:00              71.2           1005.1           2.2  \n",
       "2007-01-01 05:00:00+00:00              62.2           1005.2           2.4  \n",
       "...                                     ...              ...           ...  \n",
       "2022-08-31 18:00:00+00:00              67.9            990.2           2.4  \n",
       "2022-08-31 19:00:00+00:00              71.3            990.0           2.4  \n",
       "2022-08-31 20:00:00+00:00              73.6            989.7           2.1  \n",
       "2022-08-31 21:00:00+00:00              75.2            989.4           1.7  \n",
       "2022-08-31 22:00:00+00:00              76.8            989.4           1.4  \n",
       "\n",
       "[137326 rows x 6 columns]"
      ]
     },
     "execution_count": 164,
     "metadata": {},
     "output_type": "execute_result"
    }
   ],
   "source": [
    "df_for_training1"
   ]
  },
  {
   "cell_type": "code",
   "execution_count": null,
   "id": "2f7473af",
   "metadata": {
    "id": "2f7473af",
    "outputId": "a7f55eda-2b3d-4f8b-8cb2-84c2e195c619"
   },
   "outputs": [
    {
     "data": {
      "text/plain": [
       "<AxesSubplot:xlabel='PeriodStart'>"
      ]
     },
     "execution_count": 168,
     "metadata": {},
     "output_type": "execute_result"
    },
    {
     "data": {
      "image/png": "[encoded data removed]",
      "text/plain": [
       "<Figure size 432x288 with 1 Axes>"
      ]
     },
     "metadata": {
      "needs_background": "light"
     },
     "output_type": "display_data"
    }
   ],
   "source": [
    "df_for_plot=df_for_training.tail(50000)\n",
    "df_for_plot.plot.line()"
   ]
  },
  {
   "cell_type": "code",
   "execution_count": null,
   "id": "3e480f08",
   "metadata": {
    "id": "3e480f08"
   },
   "outputs": [],
   "source": [
    "scaler1 = StandardScaler()\n",
    "scaler1 = scaler.fit(df_for_training)\n",
    "df_for_training_scaled1 = scaler.transform(df_for_training)"
   ]
  },
  {
   "cell_type": "code",
   "execution_count": null,
   "id": "ebef2ad3",
   "metadata": {
    "id": "ebef2ad3"
   },
   "outputs": [],
   "source": [
    "trainX = []\n",
    "trainY = []\n",
    "\n",
    "n_future = 1   # Number of days we want to look into the future based on the past days.\n",
    "n_past = 24  # Number of past days we want to use to predict the future.\n",
    "\n",
    "#Reformat input data into a shape: (n_samples x timesteps x n_features)\n",
    "#In my example, my df_for_training_scaled has a shape (12823, 5)\n",
    "#12823 refers to the number of data points and 5 refers to the columns (multi-variables).\n",
    "for i in range(n_past, len(df_for_training_scaled) - n_future +1):\n",
    "    trainX.append(df_for_training_scaled[i - n_past:i, 0:df_for_training.shape[1]])\n",
    "    trainY.append(df_for_training_scaled[i + n_future - 1:i + n_future, -1])\n",
    "\n",
    "trainX, trainY = np.array(trainX), np.array(trainY)"
   ]
  },
  {
   "cell_type": "code",
   "execution_count": null,
   "id": "19c0b6ef",
   "metadata": {
    "id": "19c0b6ef"
   },
   "outputs": [],
   "source": [
    "trainx_new1 =trainX[:100000]"
   ]
  },
  {
   "cell_type": "code",
   "execution_count": null,
   "id": "bb876a78",
   "metadata": {
    "id": "bb876a78"
   },
   "outputs": [],
   "source": [
    "trianY_new1 =trainY[:100000]"
   ]
  },
  {
   "cell_type": "code",
   "execution_count": null,
   "id": "fafa835c",
   "metadata": {
    "id": "fafa835c",
    "outputId": "a9fa56de-e67c-465a-d8e5-a8798c944998"
   },
   "outputs": [
    {
     "name": "stdout",
     "output_type": "stream",
     "text": [
      "Model: \"sequential_3\"\n",
      "_________________________________________________________________\n",
      " Layer (type)                Output Shape              Param #   \n",
      "=================================================================\n",
      " lstm_4 (LSTM)               (None, 24, 64)            18176     \n",
      "                                                                 \n",
      " lstm_5 (LSTM)               (None, 32)                12416     \n",
      "                                                                 \n",
      " dropout_2 (Dropout)         (None, 32)                0         \n",
      "                                                                 \n",
      " dense_2 (Dense)             (None, 1)                 33        \n",
      "                                                                 \n",
      "=================================================================\n",
      "Total params: 30,625\n",
      "Trainable params: 30,625\n",
      "Non-trainable params: 0\n",
      "_________________________________________________________________\n"
     ]
    }
   ],
   "source": [
    "model = Sequential()\n",
    "model.add(LSTM(64, activation='relu', input_shape=(trainx_new1.shape[1], trainx_new1.shape[2]), return_sequences=True))\n",
    "model.add(LSTM(32, activation='relu', return_sequences=False))\n",
    "model.add(Dropout(0.2))\n",
    "model.add(Dense(trainY.shape[1]))\n",
    "\n",
    "model.compile(optimizer='adam', loss='mse')\n",
    "model.summary()"
   ]
  },
  {
   "cell_type": "code",
   "execution_count": null,
   "id": "914abafb",
   "metadata": {
    "id": "914abafb",
    "outputId": "ca7feba1-5ce5-4ad6-b26d-2bd71576c7d5"
   },
   "outputs": [
    {
     "name": "stdout",
     "output_type": "stream",
     "text": [
      "Epoch 1/10\n",
      "5625/5625 [==============================] - 48s 8ms/step - loss: 0.0571 - val_loss: 0.0192\n",
      "Epoch 2/10\n",
      "5625/5625 [==============================] - 43s 8ms/step - loss: 0.0347 - val_loss: 0.0187\n",
      "Epoch 3/10\n",
      "5625/5625 [==============================] - 43s 8ms/step - loss: 0.0319 - val_loss: 0.0165\n",
      "Epoch 4/10\n",
      "5625/5625 [==============================] - 44s 8ms/step - loss: 24.8123 - val_loss: 0.0167\n",
      "Epoch 5/10\n",
      "5625/5625 [==============================] - 45s 8ms/step - loss: 0.0297 - val_loss: 0.0156\n",
      "Epoch 6/10\n",
      "5625/5625 [==============================] - 49s 9ms/step - loss: 0.0288 - val_loss: 0.0155\n",
      "Epoch 7/10\n",
      "5625/5625 [==============================] - 46s 8ms/step - loss: 0.0287 - val_loss: 0.0168\n",
      "Epoch 8/10\n",
      "5625/5625 [==============================] - 45s 8ms/step - loss: 0.0292 - val_loss: 0.0152\n",
      "Epoch 9/10\n",
      "5625/5625 [==============================] - 45s 8ms/step - loss: 0.0292 - val_loss: 0.0141\n",
      "Epoch 10/10\n",
      "5625/5625 [==============================] - 43s 8ms/step - loss: 0.0288 - val_loss: 0.0150\n"
     ]
    }
   ],
   "source": [
    "history1 = model.fit(trainx_new1,trianY_new1, epochs=10, batch_size=16, validation_split=0.1, verbose=1)"
   ]
  },
  {
   "cell_type": "code",
   "execution_count": null,
   "id": "2e7605b5",
   "metadata": {
    "id": "2e7605b5",
    "outputId": "a58dac78-14eb-4466-fa63-4ecf54c7d004"
   },
   "outputs": [
    {
     "data": {
      "text/plain": [
       "<matplotlib.legend.Legend at 0x12847a089d0>"
      ]
     },
     "execution_count": 176,
     "metadata": {},
     "output_type": "execute_result"
    },
    {
     "data": {
      "image/png": "[encoded data removed]",
      "text/plain": [
       "<Figure size 432x288 with 1 Axes>"
      ]
     },
     "metadata": {
      "needs_background": "light"
     },
     "output_type": "display_data"
    }
   ],
   "source": [
    "plt.plot(history.history['loss'], label='Training loss')\n",
    "plt.plot(history.history['val_loss'], label='Validation loss')\n",
    "plt.legend()"
   ]
  },
  {
   "cell_type": "code",
   "execution_count": null,
   "id": "4b0d1eff",
   "metadata": {
    "id": "4b0d1eff",
    "outputId": "ccea144f-8992-4b19-b8f7-d4da830fcb69"
   },
   "outputs": [
    {
     "name": "stdout",
     "output_type": "stream",
     "text": [
      "4290/4290 [==============================] - 18s 4ms/step\n"
     ]
    }
   ],
   "source": [
    "trainPredict = model.predict(trainX)"
   ]
  },
  {
   "cell_type": "code",
   "execution_count": null,
   "id": "557eddd3",
   "metadata": {
    "id": "557eddd3",
    "outputId": "711bce22-86d4-4e9a-9810-22771eda019f"
   },
   "outputs": [
    {
     "data": {
      "text/plain": [
       "array([[ 0.15939128],\n",
       "       [ 0.46593937],\n",
       "       [ 0.4653367 ],\n",
       "       ...,\n",
       "       [-0.09503485],\n",
       "       [-0.17112952],\n",
       "       [-0.38013563]], dtype=float32)"
      ]
     },
     "execution_count": 178,
     "metadata": {},
     "output_type": "execute_result"
    }
   ],
   "source": [
    "testPredict"
   ]
  },
  {
   "cell_type": "code",
   "execution_count": null,
   "id": "a15e8925",
   "metadata": {
    "id": "a15e8925"
   },
   "outputs": [],
   "source": [
    "trainScore = np.sqrt(mean_squared_error(trainY, trainPredict))"
   ]
  },
  {
   "cell_type": "code",
   "execution_count": null,
   "id": "c2507625",
   "metadata": {
    "id": "c2507625",
    "outputId": "73b3f26e-7fb7-4b56-8982-8b632c30211b"
   },
   "outputs": [
    {
     "data": {
      "text/plain": [
       "0.19898666748904745"
      ]
     },
     "execution_count": 181,
     "metadata": {},
     "output_type": "execute_result"
    }
   ],
   "source": [
    "trainScore"
   ]
  },
  {
   "cell_type": "code",
   "execution_count": null,
   "id": "d01581ad",
   "metadata": {
    "id": "d01581ad",
    "outputId": "a6afbf95-a730-4bfe-feef-c228d4ae6fd5"
   },
   "outputs": [
    {
     "name": "stdout",
     "output_type": "stream",
     "text": [
      "1165/1165 [==============================] - 5s 4ms/step\n"
     ]
    }
   ],
   "source": [
    "trainPredict12 = model.predict(trainX[100000:])"
   ]
  },
  {
   "cell_type": "code",
   "execution_count": null,
   "id": "36f0bbfe",
   "metadata": {
    "id": "36f0bbfe"
   },
   "outputs": [],
   "source": [
    "trainScore = np.sqrt(mean_squared_error(trainY[100000:], trainPredict12))"
   ]
  },
  {
   "cell_type": "code",
   "execution_count": null,
   "id": "bf4553d7",
   "metadata": {
    "id": "bf4553d7",
    "outputId": "402b0146-ae69-48d3-cf43-1fd7a8324f40"
   },
   "outputs": [
    {
     "data": {
      "text/plain": [
       "0.33246562065431473"
      ]
     },
     "execution_count": 184,
     "metadata": {},
     "output_type": "execute_result"
    }
   ],
   "source": [
    "trainScore"
   ]
  },
  {
   "cell_type": "code",
   "execution_count": 146,
   "id": "cb0f8197",
   "metadata": {
    "id": "cb0f8197"
   },
   "outputs": [],
   "source": [
    "a=[1,2,3,4,5]"
   ]
  },
  {
   "cell_type": "code",
   "execution_count": 147,
   "id": "e910bb3e",
   "metadata": {},
   "outputs": [
    {
     "data": {
      "text/plain": [
       "[5, 4]"
      ]
     },
     "execution_count": 147,
     "metadata": {},
     "output_type": "execute_result"
    }
   ],
   "source": [
    "a[:2:-1]"
   ]
  },
  {
   "cell_type": "code",
   "execution_count": 113,
   "id": "d826dfb2",
   "metadata": {},
   "outputs": [
    {
     "data": {
      "text/plain": [
       "array([[[-1.82802447,  1.13743582,  1.36170273,  0.95851828,\n",
       "         -0.67317479],\n",
       "        [-1.74787404,  1.07676022,  1.44782335,  0.7711505 ,\n",
       "         -0.6019791 ],\n",
       "        [-1.53413955,  0.78205012,  1.5052371 ,  0.71198173,\n",
       "         -0.45958772],\n",
       "        ...,\n",
       "        [-1.12002897,  0.13628828,  1.21816835,  0.88948804,\n",
       "         -0.24600064],\n",
       "        [-1.33376346,  0.32264908,  1.28993554,  0.85990366,\n",
       "         -0.24600064],\n",
       "        [-1.53413955,  0.51767782,  1.36170273,  0.83031927,\n",
       "         -0.17480495]],\n",
       "\n",
       "       [[-1.74787404,  1.07676022,  1.44782335,  0.7711505 ,\n",
       "         -0.6019791 ],\n",
       "        [-1.53413955,  0.78205012,  1.5052371 ,  0.71198173,\n",
       "         -0.45958772],\n",
       "        [-1.17346259,  0.32698305,  1.51959054,  0.74156612,\n",
       "         -0.31719634],\n",
       "        ...,\n",
       "        [-1.33376346,  0.32264908,  1.28993554,  0.85990366,\n",
       "         -0.24600064],\n",
       "        [-1.53413955,  0.51767782,  1.36170273,  0.83031927,\n",
       "         -0.17480495],\n",
       "        [-1.6677236 ,  0.63902904,  1.3904096 ,  0.80073489,\n",
       "         -0.17480495]],\n",
       "\n",
       "       [[-1.53413955,  0.78205012,  1.5052371 ,  0.71198173,\n",
       "         -0.45958772],\n",
       "        [-1.17346259,  0.32698305,  1.51959054,  0.74156612,\n",
       "         -0.31719634],\n",
       "        [-0.82614404, -0.06307443,  1.53394398,  0.7711505 ,\n",
       "         -0.17480495],\n",
       "        ...,\n",
       "        [-1.53413955,  0.51767782,  1.36170273,  0.83031927,\n",
       "         -0.17480495],\n",
       "        [-1.6677236 ,  0.63902904,  1.3904096 ,  0.80073489,\n",
       "         -0.17480495],\n",
       "        [-1.73451563,  0.68236876,  1.40476304,  0.79087343,\n",
       "         -0.03241357]],\n",
       "\n",
       "       ...,\n",
       "\n",
       "       [[ 1.37799291, -0.68716641, -0.54730448,  0.47530665,\n",
       "          0.39476058],\n",
       "        [ 1.40470972, -0.76084393, -0.67648542,  0.45558372,\n",
       "          0.39476058],\n",
       "        [ 1.27112566, -0.60048697, -0.80566636,  0.38655349,\n",
       "          0.2523692 ],\n",
       "        ...,\n",
       "        [ 0.62992219,  0.08428062, -0.57601136, -0.01776644,\n",
       "         -0.17480495],\n",
       "        [ 0.56313016,  0.18396197, -0.61907167, -0.13610399,\n",
       "         -0.17480495],\n",
       "        [ 0.48297972,  0.33131702, -0.64777855, -0.06707375,\n",
       "         -0.17480495]],\n",
       "\n",
       "       [[ 1.40470972, -0.76084393, -0.67648542,  0.45558372,\n",
       "          0.39476058],\n",
       "        [ 1.27112566, -0.60048697, -0.80566636,  0.38655349,\n",
       "          0.2523692 ],\n",
       "        [ 1.1241832 , -0.37512042, -0.89178699,  0.25835449,\n",
       "          0.10997781],\n",
       "        ...,\n",
       "        [ 0.56313016,  0.18396197, -0.61907167, -0.13610399,\n",
       "         -0.17480495],\n",
       "        [ 0.48297972,  0.33131702, -0.64777855, -0.06707375,\n",
       "         -0.17480495],\n",
       "        [ 0.4295461 ,  0.43099838, -0.69083886,  0.00195648,\n",
       "         -0.38839203]],\n",
       "\n",
       "       [[ 1.27112566, -0.60048697, -0.80566636,  0.38655349,\n",
       "          0.2523692 ],\n",
       "        [ 1.1241832 , -0.37512042, -0.89178699,  0.25835449,\n",
       "          0.10997781],\n",
       "        [ 1.07074958, -0.31877878, -0.92049386,  0.16960133,\n",
       "          0.2523692 ],\n",
       "        ...,\n",
       "        [ 0.48297972,  0.33131702, -0.64777855, -0.06707375,\n",
       "         -0.17480495],\n",
       "        [ 0.4295461 ,  0.43099838, -0.69083886,  0.00195648,\n",
       "         -0.38839203],\n",
       "        [ 0.40282929,  0.50034193, -0.73389917, -0.02762791,\n",
       "         -0.67317479]]])"
      ]
     },
     "execution_count": 113,
     "metadata": {},
     "output_type": "execute_result"
    }
   ],
   "source": [
    "\n"
   ]
  },
  {
   "cell_type": "code",
   "execution_count": 126,
   "id": "a53d6590",
   "metadata": {},
   "outputs": [
    {
     "data": {
      "text/plain": [
       "(137313, 14, 5)"
      ]
     },
     "execution_count": 126,
     "metadata": {},
     "output_type": "execute_result"
    }
   ],
   "source": [
    "trainX=np.concatenate((trainX,trainPredict))\n",
    "trainX.shape"
   ]
  },
  {
   "cell_type": "code",
   "execution_count": 124,
   "id": "4bfa685c",
   "metadata": {},
   "outputs": [
    {
     "data": {
      "text/plain": [
       "(1, 14, 5)"
      ]
     },
     "execution_count": 124,
     "metadata": {},
     "output_type": "execute_result"
    }
   ],
   "source": [
    "trainPredict=trainPredict.reshape((1,14,5))\n",
    "trainPredict.shape"
   ]
  },
  {
   "cell_type": "code",
   "execution_count": 3,
   "id": "c4eac4ac",
   "metadata": {
    "ExecuteTime": {
     "end_time": "2023-07-11T11:12:57.894667370Z",
     "start_time": "2023-07-11T11:12:57.880425211Z"
    }
   },
   "outputs": [
    {
     "name": "stdout",
     "output_type": "stream",
     "text": [
      "[0.5, 1, 2, 3, 4, 5]\n"
     ]
    }
   ],
   "source": []
  },
  {
   "cell_type": "code",
   "execution_count": null,
   "id": "dc446a62",
   "metadata": {},
   "outputs": [],
   "source": []
  }
 ],
 "metadata": {
  "colab": {
   "provenance": []
  },
  "kernelspec": {
   "display_name": "Python 3 (ipykernel)",
   "language": "python",
   "name": "python3"
  },
  "language_info": {
   "codemirror_mode": {
    "name": "ipython",
    "version": 3
   },
   "file_extension": ".py",
   "mimetype": "text/x-python",
   "name": "python",
   "nbconvert_exporter": "python",
   "pygments_lexer": "ipython3",
   "version": "3.9.12"
  }
 },
 "nbformat": 4,
 "nbformat_minor": 5
}
